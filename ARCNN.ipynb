{
  "nbformat": 4,
  "nbformat_minor": 0,
  "metadata": {
    "colab": {
      "provenance": [],
      "collapsed_sections": []
    },
    "kernelspec": {
      "name": "python3",
      "display_name": "Python 3"
    },
    "language_info": {
      "name": "python"
    }
  },
  "cells": [
    {
      "cell_type": "markdown",
      "source": [
        "Restore compressed "
      ],
      "metadata": {
        "id": "-NNXNXE6E3TP"
      }
    },
    {
      "cell_type": "markdown",
      "source": [
        "### Importing and Preprocessing"
      ],
      "metadata": {
        "id": "yz7Bx8f6CzyG"
      }
    },
    {
      "cell_type": "code",
      "execution_count": null,
      "metadata": {
        "colab": {
          "base_uri": "https://localhost:8080/"
        },
        "id": "lInl8iNMCtsP",
        "outputId": "846f6519-32c2-4107-bea6-6fb465648be6"
      },
      "outputs": [
        {
          "output_type": "stream",
          "name": "stdout",
          "text": [
            "Cloning into 'PyTorch-ARCNN'...\n",
            "remote: Enumerating objects: 32, done.\u001b[K\n",
            "remote: Total 32 (delta 0), reused 0 (delta 0), pack-reused 32\u001b[K\n",
            "Unpacking objects: 100% (32/32), done.\n"
          ]
        }
      ],
      "source": [
        "!git clone https://github.com/hkchengrex/PyTorch-ARCNN\n",
        "\n",
        "import os\n",
        "import numpy as np\n",
        "from google.colab import files\n",
        "from google.colab import drive\n",
        "from zipfile import ZipFile"
      ]
    },
    {
      "cell_type": "code",
      "source": [
        "cd /content/PyTorch-ARCNN"
      ],
      "metadata": {
        "colab": {
          "base_uri": "https://localhost:8080/"
        },
        "id": "lMKsdCjQrtp-",
        "outputId": "fb90eff1-8d9d-4a01-ae4a-639b911bc894"
      },
      "execution_count": null,
      "outputs": [
        {
          "output_type": "stream",
          "name": "stdout",
          "text": [
            "/content/PyTorch-ARCNN\n"
          ]
        }
      ]
    },
    {
      "cell_type": "markdown",
      "source": [
        "load dataset"
      ],
      "metadata": {
        "id": "Oqw6RIWvN4gT"
      }
    },
    {
      "cell_type": "code",
      "source": [
        "DATASET_NAME = 'compressed'\n",
        "\n",
        "drive.mount('/content/gdrive')\n",
        "\n",
        "# with ZipFile(f'/content/gdrive/MyDrive/{DATASET_NAME}.zip', 'r') as dataset_zip:\n",
        "#     dataset_zip.extractall(f'/content/{DATASET_NAME}')"
      ],
      "metadata": {
        "colab": {
          "base_uri": "https://localhost:8080/"
        },
        "id": "rmmogCejIUXI",
        "outputId": "d76238a8-c796-44db-b56c-47e6f91d21f7"
      },
      "execution_count": null,
      "outputs": [
        {
          "output_type": "stream",
          "name": "stdout",
          "text": [
            "Mounted at /content/gdrive\n"
          ]
        }
      ]
    },
    {
      "cell_type": "markdown",
      "source": [
        "### Running"
      ],
      "metadata": {
        "id": "pWsy1Bqt4q1e"
      }
    },
    {
      "cell_type": "code",
      "source": [
        "!python run.py --dir /content/gdrive/MyDrive/compressed60 --output /content/arcnn60_track2 --batch_size 1 --quality 40"
      ],
      "metadata": {
        "colab": {
          "base_uri": "https://localhost:8080/"
        },
        "id": "kAi3ZVTi4qPT",
        "outputId": "5dd34015-7521-4ddd-9162-33568db73285"
      },
      "execution_count": null,
      "outputs": [
        {
          "output_type": "stream",
          "name": "stdout",
          "text": [
            "weights_conv1 (1, 81, 64)\n",
            "biases_conv1 (64, 1)\n",
            "biases_conv2 (32, 1)\n",
            "weights_conv2 (64, 49, 32)\n",
            "weights_conv3 (16, 25)\n",
            "biases_conv3 (1, 1)\n",
            "biases_conv22 (16, 1)\n",
            "weights_conv22 (32, 1, 16)\n",
            "Time taken: 555.205696, per image: 13.219183\n"
          ]
        }
      ]
    },
    {
      "cell_type": "code",
      "source": [
        "!python run.py --dir /content/gdrive/MyDrive/compressed80 --output /content/arcnn80_track2 --batch_size 1 --quality 40"
      ],
      "metadata": {
        "colab": {
          "base_uri": "https://localhost:8080/"
        },
        "id": "LFnjvMxjV4r7",
        "outputId": "a3030ea6-809c-4de8-c50d-cf6dc2b8ffed"
      },
      "execution_count": null,
      "outputs": [
        {
          "output_type": "stream",
          "name": "stdout",
          "text": [
            "weights_conv1 (1, 81, 64)\n",
            "biases_conv1 (64, 1)\n",
            "biases_conv2 (32, 1)\n",
            "weights_conv2 (64, 49, 32)\n",
            "weights_conv3 (16, 25)\n",
            "biases_conv3 (1, 1)\n",
            "biases_conv22 (16, 1)\n",
            "weights_conv22 (32, 1, 16)\n",
            "Time taken: 547.722645, per image: 13.041015\n"
          ]
        }
      ]
    },
    {
      "cell_type": "code",
      "source": [
        "!python run.py --dir /content/gdrive/MyDrive/compressed90 --output /content/arcnn90_track2 --batch_size 1 --quality 40"
      ],
      "metadata": {
        "colab": {
          "base_uri": "https://localhost:8080/"
        },
        "id": "qKSNymKeV5SE",
        "outputId": "15bad572-fd83-4633-8684-be321e994559"
      },
      "execution_count": null,
      "outputs": [
        {
          "output_type": "stream",
          "name": "stdout",
          "text": [
            "weights_conv1 (1, 81, 64)\n",
            "biases_conv1 (64, 1)\n",
            "biases_conv2 (32, 1)\n",
            "weights_conv2 (64, 49, 32)\n",
            "weights_conv3 (16, 25)\n",
            "biases_conv3 (1, 1)\n",
            "biases_conv22 (16, 1)\n",
            "weights_conv22 (32, 1, 16)\n",
            "Time taken: 547.725862, per image: 13.041092\n"
          ]
        }
      ]
    },
    {
      "cell_type": "markdown",
      "source": [
        "#### download results"
      ],
      "metadata": {
        "id": "HJMn7O-lGd95"
      }
    },
    {
      "cell_type": "code",
      "source": [
        "!zip -r /content/arcnn60_track2.zip /content/arcnn60_track2\n",
        "files.download('/content/arcnn60_track2.zip')"
      ],
      "metadata": {
        "id": "Cep84Tx0HxDT",
        "colab": {
          "base_uri": "https://localhost:8080/",
          "height": 780
        },
        "outputId": "878ddb57-b7e5-4ce3-94c5-5d130e3fbf45"
      },
      "execution_count": null,
      "outputs": [
        {
          "output_type": "stream",
          "name": "stdout",
          "text": [
            "  adding: content/arcnn60_track2/ (stored 0%)\n",
            "  adding: content/arcnn60_track2/0000000453.png (deflated 8%)\n",
            "  adding: content/arcnn60_track2/0000000485.png (deflated 7%)\n",
            "  adding: content/arcnn60_track2/0000000458.png (deflated 8%)\n",
            "  adding: content/arcnn60_track2/0000000469.png (deflated 8%)\n",
            "  adding: content/arcnn60_track2/0000000475.png (deflated 8%)\n",
            "  adding: content/arcnn60_track2/0000000464.png (deflated 8%)\n",
            "  adding: content/arcnn60_track2/0000000484.png (deflated 8%)\n",
            "  adding: content/arcnn60_track2/0000000456.png (deflated 8%)\n",
            "  adding: content/arcnn60_track2/0000000491.png (deflated 8%)\n",
            "  adding: content/arcnn60_track2/0000000471.png (deflated 8%)\n",
            "  adding: content/arcnn60_track2/0000000476.png (deflated 8%)\n",
            "  adding: content/arcnn60_track2/0000000481.png (deflated 8%)\n",
            "  adding: content/arcnn60_track2/0000000479.png (deflated 8%)\n",
            "  adding: content/arcnn60_track2/0000000457.png (deflated 8%)\n",
            "  adding: content/arcnn60_track2/0000000452.png (deflated 8%)\n",
            "  adding: content/arcnn60_track2/0000000474.png (deflated 8%)\n",
            "  adding: content/arcnn60_track2/0000000472.png (deflated 8%)\n",
            "  adding: content/arcnn60_track2/0000000490.png (deflated 8%)\n",
            "  adding: content/arcnn60_track2/0000000486.png (deflated 7%)\n",
            "  adding: content/arcnn60_track2/0000000460.png (deflated 8%)\n",
            "  adding: content/arcnn60_track2/0000000470.png (deflated 8%)\n",
            "  adding: content/arcnn60_track2/0000000459.png (deflated 8%)\n",
            "  adding: content/arcnn60_track2/0000000492.png (deflated 9%)\n",
            "  adding: content/arcnn60_track2/0000000489.png (deflated 8%)\n",
            "  adding: content/arcnn60_track2/0000000461.png (deflated 8%)\n",
            "  adding: content/arcnn60_track2/0000000454.png (deflated 8%)\n",
            "  adding: content/arcnn60_track2/0000000480.png (deflated 8%)\n",
            "  adding: content/arcnn60_track2/0000000477.png (deflated 8%)\n",
            "  adding: content/arcnn60_track2/0000000455.png (deflated 8%)\n",
            "  adding: content/arcnn60_track2/0000000478.png (deflated 8%)\n",
            "  adding: content/arcnn60_track2/0000000487.png (deflated 7%)\n",
            "  adding: content/arcnn60_track2/0000000482.png (deflated 8%)\n",
            "  adding: content/arcnn60_track2/0000000483.png (deflated 8%)\n",
            "  adding: content/arcnn60_track2/0000000488.png (deflated 8%)\n",
            "  adding: content/arcnn60_track2/0000000451.png (deflated 8%)\n",
            "  adding: content/arcnn60_track2/0000000468.png (deflated 8%)\n",
            "  adding: content/arcnn60_track2/0000000466.png (deflated 8%)\n",
            "  adding: content/arcnn60_track2/0000000467.png (deflated 8%)\n",
            "  adding: content/arcnn60_track2/0000000462.png (deflated 9%)\n",
            "  adding: content/arcnn60_track2/0000000463.png (deflated 9%)\n",
            "  adding: content/arcnn60_track2/0000000473.png (deflated 8%)\n",
            "  adding: content/arcnn60_track2/0000000465.png (deflated 8%)\n"
          ]
        },
        {
          "output_type": "display_data",
          "data": {
            "text/plain": [
              "<IPython.core.display.Javascript object>"
            ],
            "application/javascript": [
              "\n",
              "    async function download(id, filename, size) {\n",
              "      if (!google.colab.kernel.accessAllowed) {\n",
              "        return;\n",
              "      }\n",
              "      const div = document.createElement('div');\n",
              "      const label = document.createElement('label');\n",
              "      label.textContent = `Downloading \"${filename}\": `;\n",
              "      div.appendChild(label);\n",
              "      const progress = document.createElement('progress');\n",
              "      progress.max = size;\n",
              "      div.appendChild(progress);\n",
              "      document.body.appendChild(div);\n",
              "\n",
              "      const buffers = [];\n",
              "      let downloaded = 0;\n",
              "\n",
              "      const channel = await google.colab.kernel.comms.open(id);\n",
              "      // Send a message to notify the kernel that we're ready.\n",
              "      channel.send({})\n",
              "\n",
              "      for await (const message of channel.messages) {\n",
              "        // Send a message to notify the kernel that we're ready.\n",
              "        channel.send({})\n",
              "        if (message.buffers) {\n",
              "          for (const buffer of message.buffers) {\n",
              "            buffers.push(buffer);\n",
              "            downloaded += buffer.byteLength;\n",
              "            progress.value = downloaded;\n",
              "          }\n",
              "        }\n",
              "      }\n",
              "      const blob = new Blob(buffers, {type: 'application/binary'});\n",
              "      const a = document.createElement('a');\n",
              "      a.href = window.URL.createObjectURL(blob);\n",
              "      a.download = filename;\n",
              "      div.appendChild(a);\n",
              "      a.click();\n",
              "      div.remove();\n",
              "    }\n",
              "  "
            ]
          },
          "metadata": {}
        },
        {
          "output_type": "display_data",
          "data": {
            "text/plain": [
              "<IPython.core.display.Javascript object>"
            ],
            "application/javascript": [
              "download(\"download_d5f1ce34-f7b6-4540-bff0-526e731b75c2\", \"arcnn60_track2.zip\", 142590775)"
            ]
          },
          "metadata": {}
        }
      ]
    },
    {
      "cell_type": "code",
      "source": [
        "!zip -r /content/arcnn80_track2.zip /content/arcnn80_track2\n",
        "files.download('/content/arcnn80_track2.zip')"
      ],
      "metadata": {
        "colab": {
          "base_uri": "https://localhost:8080/",
          "height": 780
        },
        "id": "lEomlJ8xejol",
        "outputId": "c35ebc74-b7b0-4943-9fbe-140e9cb9e64c"
      },
      "execution_count": null,
      "outputs": [
        {
          "output_type": "stream",
          "name": "stdout",
          "text": [
            "  adding: content/arcnn80_track2/ (stored 0%)\n",
            "  adding: content/arcnn80_track2/0000000453.png (deflated 7%)\n",
            "  adding: content/arcnn80_track2/0000000485.png (deflated 6%)\n",
            "  adding: content/arcnn80_track2/0000000458.png (deflated 7%)\n",
            "  adding: content/arcnn80_track2/0000000469.png (deflated 7%)\n",
            "  adding: content/arcnn80_track2/0000000475.png (deflated 7%)\n",
            "  adding: content/arcnn80_track2/0000000464.png (deflated 7%)\n",
            "  adding: content/arcnn80_track2/0000000484.png (deflated 6%)\n",
            "  adding: content/arcnn80_track2/0000000456.png (deflated 7%)\n",
            "  adding: content/arcnn80_track2/0000000491.png (deflated 7%)\n",
            "  adding: content/arcnn80_track2/0000000471.png (deflated 7%)\n",
            "  adding: content/arcnn80_track2/0000000476.png (deflated 6%)\n",
            "  adding: content/arcnn80_track2/0000000481.png (deflated 6%)\n",
            "  adding: content/arcnn80_track2/0000000479.png (deflated 6%)\n",
            "  adding: content/arcnn80_track2/0000000457.png (deflated 7%)\n",
            "  adding: content/arcnn80_track2/0000000452.png (deflated 7%)\n",
            "  adding: content/arcnn80_track2/0000000474.png (deflated 7%)\n",
            "  adding: content/arcnn80_track2/0000000472.png (deflated 7%)\n",
            "  adding: content/arcnn80_track2/0000000490.png (deflated 7%)\n",
            "  adding: content/arcnn80_track2/0000000486.png (deflated 6%)\n",
            "  adding: content/arcnn80_track2/0000000460.png (deflated 7%)\n",
            "  adding: content/arcnn80_track2/0000000470.png (deflated 7%)\n",
            "  adding: content/arcnn80_track2/0000000459.png (deflated 7%)\n",
            "  adding: content/arcnn80_track2/0000000492.png (deflated 8%)\n",
            "  adding: content/arcnn80_track2/0000000489.png (deflated 7%)\n",
            "  adding: content/arcnn80_track2/0000000461.png (deflated 7%)\n",
            "  adding: content/arcnn80_track2/0000000454.png (deflated 7%)\n",
            "  adding: content/arcnn80_track2/0000000480.png (deflated 6%)\n",
            "  adding: content/arcnn80_track2/0000000477.png (deflated 6%)\n",
            "  adding: content/arcnn80_track2/0000000455.png (deflated 7%)\n",
            "  adding: content/arcnn80_track2/0000000478.png (deflated 6%)\n",
            "  adding: content/arcnn80_track2/0000000487.png (deflated 6%)\n",
            "  adding: content/arcnn80_track2/0000000482.png (deflated 6%)\n",
            "  adding: content/arcnn80_track2/0000000483.png (deflated 6%)\n",
            "  adding: content/arcnn80_track2/0000000488.png (deflated 6%)\n",
            "  adding: content/arcnn80_track2/0000000451.png (deflated 7%)\n",
            "  adding: content/arcnn80_track2/0000000468.png (deflated 7%)\n",
            "  adding: content/arcnn80_track2/0000000466.png (deflated 7%)\n",
            "  adding: content/arcnn80_track2/0000000467.png (deflated 7%)\n",
            "  adding: content/arcnn80_track2/0000000462.png (deflated 7%)\n",
            "  adding: content/arcnn80_track2/0000000463.png (deflated 7%)\n",
            "  adding: content/arcnn80_track2/0000000473.png (deflated 7%)\n",
            "  adding: content/arcnn80_track2/0000000465.png (deflated 7%)\n"
          ]
        },
        {
          "output_type": "display_data",
          "data": {
            "text/plain": [
              "<IPython.core.display.Javascript object>"
            ],
            "application/javascript": [
              "\n",
              "    async function download(id, filename, size) {\n",
              "      if (!google.colab.kernel.accessAllowed) {\n",
              "        return;\n",
              "      }\n",
              "      const div = document.createElement('div');\n",
              "      const label = document.createElement('label');\n",
              "      label.textContent = `Downloading \"${filename}\": `;\n",
              "      div.appendChild(label);\n",
              "      const progress = document.createElement('progress');\n",
              "      progress.max = size;\n",
              "      div.appendChild(progress);\n",
              "      document.body.appendChild(div);\n",
              "\n",
              "      const buffers = [];\n",
              "      let downloaded = 0;\n",
              "\n",
              "      const channel = await google.colab.kernel.comms.open(id);\n",
              "      // Send a message to notify the kernel that we're ready.\n",
              "      channel.send({})\n",
              "\n",
              "      for await (const message of channel.messages) {\n",
              "        // Send a message to notify the kernel that we're ready.\n",
              "        channel.send({})\n",
              "        if (message.buffers) {\n",
              "          for (const buffer of message.buffers) {\n",
              "            buffers.push(buffer);\n",
              "            downloaded += buffer.byteLength;\n",
              "            progress.value = downloaded;\n",
              "          }\n",
              "        }\n",
              "      }\n",
              "      const blob = new Blob(buffers, {type: 'application/binary'});\n",
              "      const a = document.createElement('a');\n",
              "      a.href = window.URL.createObjectURL(blob);\n",
              "      a.download = filename;\n",
              "      div.appendChild(a);\n",
              "      a.click();\n",
              "      div.remove();\n",
              "    }\n",
              "  "
            ]
          },
          "metadata": {}
        },
        {
          "output_type": "display_data",
          "data": {
            "text/plain": [
              "<IPython.core.display.Javascript object>"
            ],
            "application/javascript": [
              "download(\"download_e71e5689-8974-43ef-bd9a-583def4006e5\", \"arcnn80_track2.zip\", 149112851)"
            ]
          },
          "metadata": {}
        }
      ]
    },
    {
      "cell_type": "code",
      "source": [
        "!zip -r /content/arcnn90_track2.zip /content/arcnn90_track2\n",
        "files.download('/content/arcnn90_track2.zip')"
      ],
      "metadata": {
        "colab": {
          "base_uri": "https://localhost:8080/",
          "height": 780
        },
        "id": "2kyiNheVekD4",
        "outputId": "117f27f4-2c23-4c41-9c49-a51e45e2375a"
      },
      "execution_count": null,
      "outputs": [
        {
          "output_type": "stream",
          "name": "stdout",
          "text": [
            "  adding: content/arcnn90_track2/ (stored 0%)\n",
            "  adding: content/arcnn90_track2/0000000453.png (deflated 5%)\n",
            "  adding: content/arcnn90_track2/0000000485.png (deflated 4%)\n",
            "  adding: content/arcnn90_track2/0000000458.png (deflated 5%)\n",
            "  adding: content/arcnn90_track2/0000000469.png (deflated 5%)\n",
            "  adding: content/arcnn90_track2/0000000475.png (deflated 4%)\n",
            "  adding: content/arcnn90_track2/0000000464.png (deflated 5%)\n",
            "  adding: content/arcnn90_track2/0000000484.png (deflated 4%)\n",
            "  adding: content/arcnn90_track2/0000000456.png (deflated 5%)\n",
            "  adding: content/arcnn90_track2/0000000491.png (deflated 5%)\n",
            "  adding: content/arcnn90_track2/0000000471.png (deflated 5%)\n",
            "  adding: content/arcnn90_track2/0000000476.png (deflated 4%)\n",
            "  adding: content/arcnn90_track2/0000000481.png (deflated 4%)\n",
            "  adding: content/arcnn90_track2/0000000479.png (deflated 4%)\n",
            "  adding: content/arcnn90_track2/0000000457.png (deflated 5%)\n",
            "  adding: content/arcnn90_track2/0000000452.png (deflated 4%)\n",
            "  adding: content/arcnn90_track2/0000000474.png (deflated 5%)\n",
            "  adding: content/arcnn90_track2/0000000472.png (deflated 5%)\n",
            "  adding: content/arcnn90_track2/0000000490.png (deflated 5%)\n",
            "  adding: content/arcnn90_track2/0000000486.png (deflated 4%)\n",
            "  adding: content/arcnn90_track2/0000000460.png (deflated 5%)\n",
            "  adding: content/arcnn90_track2/0000000470.png (deflated 4%)\n",
            "  adding: content/arcnn90_track2/0000000459.png (deflated 5%)\n",
            "  adding: content/arcnn90_track2/0000000492.png (deflated 5%)\n",
            "  adding: content/arcnn90_track2/0000000489.png (deflated 5%)\n",
            "  adding: content/arcnn90_track2/0000000461.png (deflated 5%)\n",
            "  adding: content/arcnn90_track2/0000000454.png (deflated 5%)\n",
            "  adding: content/arcnn90_track2/0000000480.png (deflated 4%)\n",
            "  adding: content/arcnn90_track2/0000000477.png (deflated 4%)\n",
            "  adding: content/arcnn90_track2/0000000455.png (deflated 4%)\n",
            "  adding: content/arcnn90_track2/0000000478.png (deflated 4%)\n",
            "  adding: content/arcnn90_track2/0000000487.png (deflated 4%)\n",
            "  adding: content/arcnn90_track2/0000000482.png (deflated 4%)\n",
            "  adding: content/arcnn90_track2/0000000483.png (deflated 4%)\n",
            "  adding: content/arcnn90_track2/0000000488.png (deflated 5%)\n",
            "  adding: content/arcnn90_track2/0000000451.png (deflated 5%)\n",
            "  adding: content/arcnn90_track2/0000000468.png (deflated 5%)\n",
            "  adding: content/arcnn90_track2/0000000466.png (deflated 5%)\n",
            "  adding: content/arcnn90_track2/0000000467.png (deflated 5%)\n",
            "  adding: content/arcnn90_track2/0000000462.png (deflated 5%)\n",
            "  adding: content/arcnn90_track2/0000000463.png (deflated 5%)\n",
            "  adding: content/arcnn90_track2/0000000473.png (deflated 5%)\n",
            "  adding: content/arcnn90_track2/0000000465.png (deflated 5%)\n"
          ]
        },
        {
          "output_type": "display_data",
          "data": {
            "text/plain": [
              "<IPython.core.display.Javascript object>"
            ],
            "application/javascript": [
              "\n",
              "    async function download(id, filename, size) {\n",
              "      if (!google.colab.kernel.accessAllowed) {\n",
              "        return;\n",
              "      }\n",
              "      const div = document.createElement('div');\n",
              "      const label = document.createElement('label');\n",
              "      label.textContent = `Downloading \"${filename}\": `;\n",
              "      div.appendChild(label);\n",
              "      const progress = document.createElement('progress');\n",
              "      progress.max = size;\n",
              "      div.appendChild(progress);\n",
              "      document.body.appendChild(div);\n",
              "\n",
              "      const buffers = [];\n",
              "      let downloaded = 0;\n",
              "\n",
              "      const channel = await google.colab.kernel.comms.open(id);\n",
              "      // Send a message to notify the kernel that we're ready.\n",
              "      channel.send({})\n",
              "\n",
              "      for await (const message of channel.messages) {\n",
              "        // Send a message to notify the kernel that we're ready.\n",
              "        channel.send({})\n",
              "        if (message.buffers) {\n",
              "          for (const buffer of message.buffers) {\n",
              "            buffers.push(buffer);\n",
              "            downloaded += buffer.byteLength;\n",
              "            progress.value = downloaded;\n",
              "          }\n",
              "        }\n",
              "      }\n",
              "      const blob = new Blob(buffers, {type: 'application/binary'});\n",
              "      const a = document.createElement('a');\n",
              "      a.href = window.URL.createObjectURL(blob);\n",
              "      a.download = filename;\n",
              "      div.appendChild(a);\n",
              "      a.click();\n",
              "      div.remove();\n",
              "    }\n",
              "  "
            ]
          },
          "metadata": {}
        },
        {
          "output_type": "display_data",
          "data": {
            "text/plain": [
              "<IPython.core.display.Javascript object>"
            ],
            "application/javascript": [
              "download(\"download_2e984ead-6ec2-4476-85d4-515fb1e07eb6\", \"arcnn90_track2.zip\", 157861394)"
            ]
          },
          "metadata": {}
        }
      ]
    }
  ]
}