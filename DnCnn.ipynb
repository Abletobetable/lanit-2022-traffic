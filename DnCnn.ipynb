{
  "cells": [
    {
      "cell_type": "markdown",
      "metadata": {
        "id": "lR1dKyYEZo72"
      },
      "source": [
        "#### Importing"
      ]
    },
    {
      "cell_type": "code",
      "execution_count": null,
      "metadata": {
        "id": "Ei5ok5MHXYIR"
      },
      "outputs": [],
      "source": [
        "import os\n",
        "import numpy as np\n",
        "\n",
        "from google.colab import files\n",
        "from google.colab import drive\n",
        "from zipfile import ZipFile"
      ]
    },
    {
      "cell_type": "code",
      "execution_count": null,
      "metadata": {
        "colab": {
          "base_uri": "https://localhost:8080/"
        },
        "id": "iOorOBpZQ-zA",
        "outputId": "2a7d8df0-97fb-4a76-d5b5-0c0df126e102"
      },
      "outputs": [
        {
          "name": "stdout",
          "output_type": "stream",
          "text": [
            "Cloning into 'KAIR'...\n",
            "remote: Enumerating objects: 1721, done.\u001b[K\n",
            "remote: Total 1721 (delta 0), reused 0 (delta 0), pack-reused 1721\u001b[K\n",
            "Receiving objects: 100% (1721/1721), 19.31 MiB | 18.88 MiB/s, done.\n",
            "Resolving deltas: 100% (1012/1012), done.\n"
          ]
        }
      ],
      "source": [
        "!git clone https://github.com/cszn/KAIR"
      ]
    },
    {
      "cell_type": "code",
      "execution_count": null,
      "metadata": {
        "colab": {
          "base_uri": "https://localhost:8080/"
        },
        "id": "R7ZOqTEBSbHZ",
        "outputId": "76262fdb-e347-4ab1-8f20-bae936731583"
      },
      "outputs": [
        {
          "name": "stdout",
          "output_type": "stream",
          "text": [
            "/content/KAIR\n"
          ]
        }
      ],
      "source": [
        "cd /content/KAIR"
      ]
    },
    {
      "cell_type": "code",
      "execution_count": null,
      "metadata": {
        "colab": {
          "base_uri": "https://localhost:8080/"
        },
        "id": "cTeqIWGrSCBo",
        "outputId": "4df00cc0-895e-43ef-f5bd-7bcaf8fde402"
      },
      "outputs": [
        {
          "name": "stdout",
          "output_type": "stream",
          "text": [
            "Looking in indexes: https://pypi.org/simple, https://us-python.pkg.dev/colab-wheels/public/simple/\n",
            "Requirement already satisfied: opencv-python in /usr/local/lib/python3.7/dist-packages (from -r requirement.txt (line 1)) (4.6.0.66)\n",
            "Requirement already satisfied: scikit-image in /usr/local/lib/python3.7/dist-packages (from -r requirement.txt (line 2)) (0.18.3)\n",
            "Requirement already satisfied: pillow in /usr/local/lib/python3.7/dist-packages (from -r requirement.txt (line 3)) (7.1.2)\n",
            "Requirement already satisfied: torchvision in /usr/local/lib/python3.7/dist-packages (from -r requirement.txt (line 4)) (0.13.0+cu113)\n",
            "Collecting hdf5storage\n",
            "  Downloading hdf5storage-0.1.18-py2.py3-none-any.whl (53 kB)\n",
            "\u001b[K     |████████████████████████████████| 53 kB 1.5 MB/s \n",
            "\u001b[?25hCollecting ninja\n",
            "  Downloading ninja-1.10.2.3-py2.py3-none-manylinux_2_5_x86_64.manylinux1_x86_64.whl (108 kB)\n",
            "\u001b[K     |████████████████████████████████| 108 kB 9.3 MB/s \n",
            "\u001b[?25hRequirement already satisfied: lmdb in /usr/local/lib/python3.7/dist-packages (from -r requirement.txt (line 7)) (0.99)\n",
            "Requirement already satisfied: requests in /usr/local/lib/python3.7/dist-packages (from -r requirement.txt (line 8)) (2.23.0)\n",
            "Collecting timm\n",
            "  Downloading timm-0.6.7-py3-none-any.whl (509 kB)\n",
            "\u001b[K     |████████████████████████████████| 509 kB 62.1 MB/s \n",
            "\u001b[?25hCollecting einops\n",
            "  Downloading einops-0.4.1-py3-none-any.whl (28 kB)\n",
            "Requirement already satisfied: numpy>=1.14.5 in /usr/local/lib/python3.7/dist-packages (from opencv-python->-r requirement.txt (line 1)) (1.21.6)\n",
            "Requirement already satisfied: networkx>=2.0 in /usr/local/lib/python3.7/dist-packages (from scikit-image->-r requirement.txt (line 2)) (2.6.3)\n",
            "Requirement already satisfied: scipy>=1.0.1 in /usr/local/lib/python3.7/dist-packages (from scikit-image->-r requirement.txt (line 2)) (1.7.3)\n",
            "Requirement already satisfied: imageio>=2.3.0 in /usr/local/lib/python3.7/dist-packages (from scikit-image->-r requirement.txt (line 2)) (2.9.0)\n",
            "Requirement already satisfied: matplotlib!=3.0.0,>=2.0.0 in /usr/local/lib/python3.7/dist-packages (from scikit-image->-r requirement.txt (line 2)) (3.2.2)\n",
            "Requirement already satisfied: PyWavelets>=1.1.1 in /usr/local/lib/python3.7/dist-packages (from scikit-image->-r requirement.txt (line 2)) (1.3.0)\n",
            "Requirement already satisfied: tifffile>=2019.7.26 in /usr/local/lib/python3.7/dist-packages (from scikit-image->-r requirement.txt (line 2)) (2021.11.2)\n",
            "Requirement already satisfied: pyparsing!=2.0.4,!=2.1.2,!=2.1.6,>=2.0.1 in /usr/local/lib/python3.7/dist-packages (from matplotlib!=3.0.0,>=2.0.0->scikit-image->-r requirement.txt (line 2)) (3.0.9)\n",
            "Requirement already satisfied: cycler>=0.10 in /usr/local/lib/python3.7/dist-packages (from matplotlib!=3.0.0,>=2.0.0->scikit-image->-r requirement.txt (line 2)) (0.11.0)\n",
            "Requirement already satisfied: kiwisolver>=1.0.1 in /usr/local/lib/python3.7/dist-packages (from matplotlib!=3.0.0,>=2.0.0->scikit-image->-r requirement.txt (line 2)) (1.4.4)\n",
            "Requirement already satisfied: python-dateutil>=2.1 in /usr/local/lib/python3.7/dist-packages (from matplotlib!=3.0.0,>=2.0.0->scikit-image->-r requirement.txt (line 2)) (2.8.2)\n",
            "Requirement already satisfied: typing-extensions in /usr/local/lib/python3.7/dist-packages (from kiwisolver>=1.0.1->matplotlib!=3.0.0,>=2.0.0->scikit-image->-r requirement.txt (line 2)) (4.1.1)\n",
            "Requirement already satisfied: six>=1.5 in /usr/local/lib/python3.7/dist-packages (from python-dateutil>=2.1->matplotlib!=3.0.0,>=2.0.0->scikit-image->-r requirement.txt (line 2)) (1.15.0)\n",
            "Requirement already satisfied: torch==1.12.0 in /usr/local/lib/python3.7/dist-packages (from torchvision->-r requirement.txt (line 4)) (1.12.0+cu113)\n",
            "Requirement already satisfied: h5py>=2.1 in /usr/local/lib/python3.7/dist-packages (from hdf5storage->-r requirement.txt (line 5)) (3.1.0)\n",
            "Requirement already satisfied: cached-property in /usr/local/lib/python3.7/dist-packages (from h5py>=2.1->hdf5storage->-r requirement.txt (line 5)) (1.5.2)\n",
            "Requirement already satisfied: certifi>=2017.4.17 in /usr/local/lib/python3.7/dist-packages (from requests->-r requirement.txt (line 8)) (2022.6.15)\n",
            "Requirement already satisfied: idna<3,>=2.5 in /usr/local/lib/python3.7/dist-packages (from requests->-r requirement.txt (line 8)) (2.10)\n",
            "Requirement already satisfied: urllib3!=1.25.0,!=1.25.1,<1.26,>=1.21.1 in /usr/local/lib/python3.7/dist-packages (from requests->-r requirement.txt (line 8)) (1.24.3)\n",
            "Requirement already satisfied: chardet<4,>=3.0.2 in /usr/local/lib/python3.7/dist-packages (from requests->-r requirement.txt (line 8)) (3.0.4)\n",
            "Installing collected packages: timm, ninja, hdf5storage, einops\n",
            "Successfully installed einops-0.4.1 hdf5storage-0.1.18 ninja-1.10.2.3 timm-0.6.7\n"
          ]
        }
      ],
      "source": [
        "!pip install -r requirement.txt"
      ]
    },
    {
      "cell_type": "code",
      "execution_count": null,
      "metadata": {
        "colab": {
          "base_uri": "https://localhost:8080/"
        },
        "id": "wa1eqzskVfXD",
        "outputId": "94e909c9-2232-48f7-cba1-3fc4ff5f2fa8"
      },
      "outputs": [
        {
          "name": "stdout",
          "output_type": "stream",
          "text": [
            "trying to download ['DnCNN']\n",
            "downloading [model_zoo/dncnn_15.pth] ...\n",
            "done!\n",
            "already exists, skip downloading [dncnn_25.pth]\n",
            "downloading [model_zoo/dncnn_50.pth] ...\n",
            "done!\n",
            "downloading [model_zoo/dncnn3.pth] ...\n",
            "done!\n",
            "downloading [model_zoo/dncnn_color_blind.pth] ...\n",
            "done!\n",
            "downloading [model_zoo/dncnn_gray_blind.pth] ...\n",
            "done!\n"
          ]
        }
      ],
      "source": [
        "!python main_download_pretrained_models.py --models \"DnCNN\" --model_dir \"model_zoo\""
      ]
    },
    {
      "cell_type": "markdown",
      "metadata": {
        "id": "ezwiFHQvZyxQ"
      },
      "source": [
        "#### Dataset\n",
        "\n",
        "need to load from google drive"
      ]
    },
    {
      "cell_type": "code",
      "execution_count": null,
      "metadata": {
        "id": "3lbvBtrHbdcH"
      },
      "outputs": [],
      "source": [
        "DATASET_NAME = 'compressed_img'"
      ]
    },
    {
      "cell_type": "code",
      "execution_count": null,
      "metadata": {
        "colab": {
          "base_uri": "https://localhost:8080/"
        },
        "id": "1iJd4GqzZ1Sg",
        "outputId": "cbc5f878-677a-401c-9511-9dbd0171d0e5"
      },
      "outputs": [
        {
          "name": "stdout",
          "output_type": "stream",
          "text": [
            "Mounted at /content/gdrive\n"
          ]
        }
      ],
      "source": [
        "drive.mount('/content/gdrive')"
      ]
    },
    {
      "cell_type": "code",
      "execution_count": null,
      "metadata": {
        "id": "nGGSNCjhbPE-"
      },
      "outputs": [],
      "source": [
        "with ZipFile(f'/content/gdrive/MyDrive/{DATASET_NAME}.zip', 'r') as dataset_zip:\n",
        "    dataset_zip.extractall('/content/KAIR/testsets')"
      ]
    },
    {
      "cell_type": "markdown",
      "metadata": {
        "id": "WTzNWCj_ZvOJ"
      },
      "source": [
        "#### Running"
      ]
    },
    {
      "cell_type": "markdown",
      "metadata": {
        "id": "z33motUcdIrd"
      },
      "source": [
        "!!! \n",
        "\n",
        "change name of dataset\n",
        "\n",
        "change number of channels\n",
        "\n",
        "in main_test_dncnn3_deblocking.py"
      ]
    },
    {
      "cell_type": "code",
      "execution_count": null,
      "metadata": {
        "colab": {
          "background_save": true
        },
        "id": "yJFivapZSife",
        "outputId": "85b9b6c5-112c-42f5-b462-32c0f993fa06"
      },
      "outputs": [
        {
          "name": "stdout",
          "output_type": "stream",
          "text": [
            "LogHandlers setup!\n",
            "22-08-03 16:11:02.382 : Model path: model_zoo/dncnn3.pth\n",
            "22-08-03 16:11:02.382 : Params number: 665921\n",
            "22-08-03 16:11:02.382 : testsets/compressed_img\n",
            "22-08-03 16:11:02.383 : ---1--> 0000000000_compressed.jpg\n",
            "22-08-03 16:12:25.407 : ---2--> 0000000001_compressed.jpg\n",
            "22-08-03 16:13:44.927 : ---3--> 0000000002_compressed.jpg\n",
            "22-08-03 16:15:03.122 : ---4--> 0000000003_compressed.jpg\n",
            "22-08-03 16:16:22.013 : ---5--> 0000000004_compressed.jpg\n",
            "22-08-03 16:17:40.572 : ---6--> 0000000005_compressed.jpg\n",
            "22-08-03 16:18:58.193 : ---7--> 0000000006_compressed.jpg\n",
            "22-08-03 16:20:17.127 : ---8--> 0000000007_compressed.jpg\n",
            "22-08-03 16:21:36.747 : ---9--> 0000000008_compressed.jpg\n",
            "22-08-03 16:22:55.078 : --10--> 0000000009_compressed.jpg\n",
            "22-08-03 16:24:12.199 : --11--> 0000000010_compressed.jpg\n",
            "22-08-03 16:25:30.195 : --12--> 0000000011_compressed.jpg\n",
            "22-08-03 16:26:48.260 : --13--> 0000000012_compressed.jpg\n",
            "22-08-03 16:28:05.102 : --14--> 0000000013_compressed.jpg\n",
            "22-08-03 16:29:23.124 : --15--> 0000000014_compressed.jpg\n",
            "22-08-03 16:30:40.152 : --16--> 0000000015_compressed.jpg\n",
            "22-08-03 16:31:58.096 : --17--> 0000000016_compressed.jpg\n",
            "22-08-03 16:33:14.837 : --18--> 0000000017_compressed.jpg\n",
            "22-08-03 16:34:32.952 : --19--> 0000000018_compressed.jpg\n",
            "22-08-03 16:35:50.961 : --20--> 0000000019_compressed.jpg\n",
            "22-08-03 16:37:06.921 : --21--> 0000000020_compressed.jpg\n",
            "22-08-03 16:38:24.690 : --22--> 0000000021_compressed.jpg\n",
            "22-08-03 16:39:41.821 : --23--> 0000000022_compressed.jpg\n",
            "22-08-03 16:41:00.183 : --24--> 0000000023_compressed.jpg\n",
            "22-08-03 16:42:16.859 : --25--> 0000000024_compressed.jpg\n",
            "22-08-03 16:43:35.517 : --26--> 0000000025_compressed.jpg\n",
            "22-08-03 16:44:53.961 : --27--> 0000000026_compressed.jpg\n",
            "22-08-03 16:46:10.726 : --28--> 0000000027_compressed.jpg\n",
            "22-08-03 16:47:28.516 : --29--> 0000000028_compressed.jpg\n",
            "22-08-03 16:48:46.046 : --30--> 0000000029_compressed.jpg\n",
            "22-08-03 16:50:04.586 : --31--> 0000000030_compressed.jpg\n",
            "22-08-03 16:51:23.872 : --32--> 0000000031_compressed.jpg\n",
            "22-08-03 16:52:44.263 : --33--> 0000000032_compressed.jpg\n",
            "22-08-03 16:54:04.684 : --34--> 0000000033_compressed.jpg\n",
            "22-08-03 16:55:23.861 : --35--> 0000000034_compressed.jpg\n",
            "22-08-03 16:56:44.210 : --36--> 0000000035_compressed.jpg\n",
            "22-08-03 16:58:01.676 : --37--> 0000000036_compressed.jpg\n",
            "22-08-03 16:59:19.748 : --38--> 0000000037_compressed.jpg\n",
            "22-08-03 17:00:38.225 : --39--> 0000000038_compressed.jpg\n",
            "22-08-03 17:01:55.602 : --40--> 0000000039_compressed.jpg\n",
            "22-08-03 17:03:13.685 : --41--> 0000000040_compressed.jpg\n",
            "22-08-03 17:04:30.861 : --42--> 0000000041_compressed.jpg\n",
            "22-08-03 17:05:48.730 : --43--> 0000000042_compressed.jpg\n",
            "22-08-03 17:07:05.336 : --44--> 0000000043_compressed.jpg\n",
            "22-08-03 17:08:23.481 : --45--> 0000000044_compressed.jpg\n",
            "22-08-03 17:09:41.283 : --46--> 0000000045_compressed.jpg\n",
            "22-08-03 17:10:57.905 : --47--> 0000000046_compressed.jpg\n"
          ]
        }
      ],
      "source": [
        "!python main_test_dncnn3_deblocking.py"
      ]
    },
    {
      "cell_type": "markdown",
      "metadata": {
        "id": "kMHvmiswgCHf"
      },
      "source": [
        "download results"
      ]
    },
    {
      "cell_type": "code",
      "execution_count": null,
      "metadata": {
        "id": "nbcJmtDAXHS0"
      },
      "outputs": [],
      "source": [
        "!zip -r /content/{DATASET_NAME}_dncnn3.zip /content/KAIR/results/{DATASET_NAME}_dncnn3"
      ]
    },
    {
      "cell_type": "code",
      "execution_count": null,
      "metadata": {
        "colab": {
          "base_uri": "https://localhost:8080/",
          "height": 34
        },
        "id": "zXOPPuF6XTPg",
        "outputId": "bf282d06-d43b-4147-8395-39f4eaab8588"
      },
      "outputs": [
        {
          "data": {
            "application/javascript": [
              "\n",
              "    async function download(id, filename, size) {\n",
              "      if (!google.colab.kernel.accessAllowed) {\n",
              "        return;\n",
              "      }\n",
              "      const div = document.createElement('div');\n",
              "      const label = document.createElement('label');\n",
              "      label.textContent = `Downloading \"${filename}\": `;\n",
              "      div.appendChild(label);\n",
              "      const progress = document.createElement('progress');\n",
              "      progress.max = size;\n",
              "      div.appendChild(progress);\n",
              "      document.body.appendChild(div);\n",
              "\n",
              "      const buffers = [];\n",
              "      let downloaded = 0;\n",
              "\n",
              "      const channel = await google.colab.kernel.comms.open(id);\n",
              "      // Send a message to notify the kernel that we're ready.\n",
              "      channel.send({})\n",
              "\n",
              "      for await (const message of channel.messages) {\n",
              "        // Send a message to notify the kernel that we're ready.\n",
              "        channel.send({})\n",
              "        if (message.buffers) {\n",
              "          for (const buffer of message.buffers) {\n",
              "            buffers.push(buffer);\n",
              "            downloaded += buffer.byteLength;\n",
              "            progress.value = downloaded;\n",
              "          }\n",
              "        }\n",
              "      }\n",
              "      const blob = new Blob(buffers, {type: 'application/binary'});\n",
              "      const a = document.createElement('a');\n",
              "      a.href = window.URL.createObjectURL(blob);\n",
              "      a.download = filename;\n",
              "      div.appendChild(a);\n",
              "      a.click();\n",
              "      div.remove();\n",
              "    }\n",
              "  "
            ],
            "text/plain": [
              "<IPython.core.display.Javascript object>"
            ]
          },
          "metadata": {},
          "output_type": "display_data"
        },
        {
          "data": {
            "application/javascript": [
              "download(\"download_0f7c6519-9242-4756-86f5-06de9700d93a\", \"compressed_img_dncnn3.zip\", 242666057)"
            ],
            "text/plain": [
              "<IPython.core.display.Javascript object>"
            ]
          },
          "metadata": {},
          "output_type": "display_data"
        }
      ],
      "source": [
        "files.download(f'/content/{DATASET_NAME}_dncnn3.zip')"
      ]
    }
  ],
  "metadata": {
    "accelerator": "GPU",
    "colab": {
      "collapsed_sections": [],
      "name": "DnCnn",
      "provenance": []
    },
    "gpuClass": "standard",
    "kernelspec": {
      "display_name": "Python 3",
      "name": "python3"
    }
  },
  "nbformat": 4,
  "nbformat_minor": 0
}