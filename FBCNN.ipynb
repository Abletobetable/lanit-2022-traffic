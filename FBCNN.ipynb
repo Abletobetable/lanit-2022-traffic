{
  "nbformat": 4,
  "nbformat_minor": 0,
  "metadata": {
    "colab": {
      "provenance": [],
      "collapsed_sections": [
        "x65rt2LmGfRr",
        "jINm7BkdGniD",
        "S7ciIbRYGq8C",
        "LNWnWbsPHEFG"
      ]
    },
    "kernelspec": {
      "name": "python3",
      "display_name": "Python 3"
    },
    "language_info": {
      "name": "python"
    },
    "gpuClass": "standard",
    "accelerator": "GPU"
  },
  "cells": [
    {
      "cell_type": "markdown",
      "source": [
        "### Imports and preprocessing"
      ],
      "metadata": {
        "id": "x65rt2LmGfRr"
      }
    },
    {
      "cell_type": "code",
      "source": [
        "import os\n",
        "import numpy as np\n",
        "\n",
        "from google.colab import files\n",
        "from google.colab import drive\n",
        "from zipfile import ZipFile"
      ],
      "metadata": {
        "id": "5lNtE19jmZQk"
      },
      "execution_count": null,
      "outputs": []
    },
    {
      "cell_type": "code",
      "execution_count": null,
      "metadata": {
        "colab": {
          "base_uri": "https://localhost:8080/"
        },
        "id": "IYSCYrqGfStw",
        "outputId": "49caf7a1-eb24-4217-d7a1-4729ea28cc17"
      },
      "outputs": [
        {
          "output_type": "stream",
          "name": "stdout",
          "text": [
            "Cloning into 'FBCNN'...\n",
            "remote: Enumerating objects: 201, done.\u001b[K\n",
            "remote: Counting objects: 100% (27/27), done.\u001b[K\n",
            "remote: Compressing objects: 100% (23/23), done.\u001b[K\n",
            "remote: Total 201 (delta 20), reused 6 (delta 4), pack-reused 174\u001b[K\n",
            "Receiving objects: 100% (201/201), 46.28 MiB | 22.12 MiB/s, done.\n",
            "Resolving deltas: 100% (33/33), done.\n"
          ]
        }
      ],
      "source": [
        "!git clone https://github.com/jiaxi-jiang/FBCNN"
      ]
    },
    {
      "cell_type": "code",
      "source": [
        "cd /content/FBCNN"
      ],
      "metadata": {
        "colab": {
          "base_uri": "https://localhost:8080/"
        },
        "id": "Se1T-UnChDEj",
        "outputId": "27c90a0c-d829-4fc4-a3eb-8c807202552d"
      },
      "execution_count": null,
      "outputs": [
        {
          "output_type": "stream",
          "name": "stdout",
          "text": [
            "/content/FBCNN\n"
          ]
        }
      ]
    },
    {
      "cell_type": "markdown",
      "source": [
        "### Load dataset"
      ],
      "metadata": {
        "id": "jINm7BkdGniD"
      }
    },
    {
      "cell_type": "code",
      "source": [
        "DATASET_NAME = 'compressed'\n",
        "\n",
        "drive.mount('/content/gdrive')\n",
        "\n",
        "# with ZipFile(f'/content/gdrive/MyDrive/{DATASET_NAME}.zip', 'r') as dataset_zip:\n",
        "#     dataset_zip.extractall('/content/FBCNN/testsets/compressed')"
      ],
      "metadata": {
        "colab": {
          "base_uri": "https://localhost:8080/"
        },
        "id": "FmVnlfPomVp0",
        "outputId": "09e84fdd-b358-4f49-f2ff-975fc86f0569"
      },
      "execution_count": null,
      "outputs": [
        {
          "output_type": "stream",
          "name": "stdout",
          "text": [
            "Mounted at /content/gdrive\n"
          ]
        }
      ]
    },
    {
      "cell_type": "markdown",
      "source": [
        "### Running"
      ],
      "metadata": {
        "id": "S7ciIbRYGq8C"
      }
    },
    {
      "cell_type": "markdown",
      "source": [
        "!!! \n",
        "\n",
        "change testset name \n",
        "\n",
        "change number of channels\n",
        "\n",
        "change flexible quality factor\n",
        "\n",
        "in main_test_fbcnn_color_real.py"
      ],
      "metadata": {
        "id": "FWBEMk4Yn2ju"
      }
    },
    {
      "cell_type": "code",
      "source": [
        "!python main_test_fbcnn_color_real.py"
      ],
      "metadata": {
        "colab": {
          "base_uri": "https://localhost:8080/"
        },
        "id": "8v8frHv6hHwO",
        "outputId": "f154d9f9-004a-4329-ff5a-7c27bebcf4cc"
      },
      "execution_count": null,
      "outputs": [
        {
          "output_type": "stream",
          "name": "stdout",
          "text": [
            "loading model from model_zoo/fbcnn_color.pth\n",
            "LogHandlers setup!\n",
            "22-09-04 06:06:26.761 : Model path: model_zoo/fbcnn_color.pth\n",
            "22-09-04 06:06:26.763 : ---1--> 0000000451_compressed.jpg\n",
            "22-09-04 06:06:32.393 : predicted quality factor: 96\n",
            "22-09-04 06:06:32.624 : ---2--> 0000000452_compressed.jpg\n",
            "22-09-04 06:06:36.619 : predicted quality factor: 96\n",
            "22-09-04 06:06:36.845 : ---3--> 0000000453_compressed.jpg\n",
            "22-09-04 06:06:40.930 : predicted quality factor: 96\n",
            "22-09-04 06:06:41.161 : ---4--> 0000000454_compressed.jpg\n",
            "22-09-04 06:06:45.499 : predicted quality factor: 96\n",
            "22-09-04 06:06:45.729 : ---5--> 0000000455_compressed.jpg\n",
            "22-09-04 06:06:49.899 : predicted quality factor: 96\n",
            "22-09-04 06:06:50.127 : ---6--> 0000000456_compressed.jpg\n",
            "22-09-04 06:06:54.333 : predicted quality factor: 96\n",
            "22-09-04 06:06:54.568 : ---7--> 0000000457_compressed.jpg\n",
            "22-09-04 06:06:58.810 : predicted quality factor: 96\n",
            "22-09-04 06:06:59.034 : ---8--> 0000000458_compressed.jpg\n",
            "22-09-04 06:07:03.300 : predicted quality factor: 96\n",
            "22-09-04 06:07:03.531 : ---9--> 0000000459_compressed.jpg\n",
            "22-09-04 06:07:07.624 : predicted quality factor: 96\n",
            "22-09-04 06:07:07.856 : --10--> 0000000460_compressed.jpg\n",
            "22-09-04 06:07:12.108 : predicted quality factor: 96\n",
            "22-09-04 06:07:12.343 : --11--> 0000000461_compressed.jpg\n",
            "22-09-04 06:07:16.335 : predicted quality factor: 96\n",
            "22-09-04 06:07:16.559 : --12--> 0000000462_compressed.jpg\n",
            "22-09-04 06:07:20.711 : predicted quality factor: 96\n",
            "22-09-04 06:07:20.953 : --13--> 0000000463_compressed.jpg\n",
            "22-09-04 06:07:25.399 : predicted quality factor: 96\n",
            "22-09-04 06:07:25.632 : --14--> 0000000464_compressed.jpg\n",
            "22-09-04 06:07:29.981 : predicted quality factor: 96\n",
            "22-09-04 06:07:30.213 : --15--> 0000000465_compressed.jpg\n",
            "22-09-04 06:07:34.567 : predicted quality factor: 96\n",
            "22-09-04 06:07:34.787 : --16--> 0000000466_compressed.jpg\n",
            "22-09-04 06:07:39.302 : predicted quality factor: 96\n",
            "22-09-04 06:07:39.524 : --17--> 0000000467_compressed.jpg\n",
            "22-09-04 06:07:43.959 : predicted quality factor: 96\n",
            "22-09-04 06:07:44.318 : --18--> 0000000468_compressed.jpg\n",
            "22-09-04 06:07:48.769 : predicted quality factor: 96\n",
            "22-09-04 06:07:48.993 : --19--> 0000000469_compressed.jpg\n",
            "22-09-04 06:07:53.159 : predicted quality factor: 96\n",
            "22-09-04 06:07:53.384 : --20--> 0000000470_compressed.jpg\n",
            "22-09-04 06:07:57.723 : predicted quality factor: 96\n",
            "22-09-04 06:07:57.951 : --21--> 0000000471_compressed.jpg\n",
            "22-09-04 06:08:02.308 : predicted quality factor: 96\n",
            "22-09-04 06:08:02.533 : --22--> 0000000472_compressed.jpg\n",
            "22-09-04 06:08:06.513 : predicted quality factor: 96\n",
            "22-09-04 06:08:06.737 : --23--> 0000000473_compressed.jpg\n",
            "22-09-04 06:08:11.032 : predicted quality factor: 96\n",
            "22-09-04 06:08:11.260 : --24--> 0000000474_compressed.jpg\n",
            "22-09-04 06:08:15.200 : predicted quality factor: 96\n",
            "22-09-04 06:08:15.425 : --25--> 0000000475_compressed.jpg\n",
            "22-09-04 06:08:19.766 : predicted quality factor: 96\n",
            "22-09-04 06:08:19.994 : --26--> 0000000476_compressed.jpg\n",
            "22-09-04 06:08:24.344 : predicted quality factor: 96\n",
            "22-09-04 06:08:24.570 : --27--> 0000000477_compressed.jpg\n",
            "22-09-04 06:08:28.571 : predicted quality factor: 96\n",
            "22-09-04 06:08:28.800 : --28--> 0000000478_compressed.jpg\n",
            "22-09-04 06:08:33.163 : predicted quality factor: 96\n",
            "22-09-04 06:08:33.398 : --29--> 0000000479_compressed.jpg\n",
            "22-09-04 06:08:37.607 : predicted quality factor: 96\n",
            "22-09-04 06:08:37.836 : --30--> 0000000480_compressed.jpg\n",
            "22-09-04 06:08:42.192 : predicted quality factor: 96\n",
            "22-09-04 06:08:42.420 : --31--> 0000000481_compressed.jpg\n",
            "22-09-04 06:08:46.643 : predicted quality factor: 96\n",
            "22-09-04 06:08:46.875 : --32--> 0000000482_compressed.jpg\n",
            "22-09-04 06:08:50.993 : predicted quality factor: 96\n",
            "22-09-04 06:08:51.216 : --33--> 0000000483_compressed.jpg\n",
            "22-09-04 06:08:55.518 : predicted quality factor: 96\n",
            "22-09-04 06:08:55.748 : --34--> 0000000484_compressed.jpg\n",
            "22-09-04 06:09:00.004 : predicted quality factor: 96\n",
            "22-09-04 06:09:00.271 : --35--> 0000000485_compressed.jpg\n",
            "22-09-04 06:09:04.661 : predicted quality factor: 96\n",
            "22-09-04 06:09:04.885 : --36--> 0000000486_compressed.jpg\n",
            "22-09-04 06:09:09.109 : predicted quality factor: 96\n",
            "22-09-04 06:09:09.340 : --37--> 0000000487_compressed.jpg\n",
            "22-09-04 06:09:13.705 : predicted quality factor: 96\n",
            "22-09-04 06:09:13.922 : --38--> 0000000488_compressed.jpg\n",
            "22-09-04 06:09:18.357 : predicted quality factor: 96\n",
            "22-09-04 06:09:18.577 : --39--> 0000000489_compressed.jpg\n",
            "22-09-04 06:09:22.960 : predicted quality factor: 96\n",
            "22-09-04 06:09:23.179 : --40--> 0000000490_compressed.jpg\n",
            "22-09-04 06:09:27.394 : predicted quality factor: 96\n",
            "22-09-04 06:09:27.621 : --41--> 0000000491_compressed.jpg\n",
            "22-09-04 06:09:31.858 : predicted quality factor: 96\n",
            "22-09-04 06:09:32.086 : --42--> 0000000492_compressed.jpg\n",
            "22-09-04 06:09:36.266 : predicted quality factor: 96\n"
          ]
        }
      ]
    },
    {
      "cell_type": "markdown",
      "source": [
        "### downloading results"
      ],
      "metadata": {
        "id": "LNWnWbsPHEFG"
      }
    },
    {
      "cell_type": "code",
      "source": [
        "!zip -r /content/fbcnn60_track2.zip /content/FBCNN/test_results/compressed60_fbcnn_color\n",
        "\n",
        "files.download('/content/fbcnn60_track2.zip')"
      ],
      "metadata": {
        "colab": {
          "base_uri": "https://localhost:8080/",
          "height": 798
        },
        "id": "FWsBxsvS-vKc",
        "outputId": "97ca0be1-98df-4e9f-910d-001fbf59a1ca"
      },
      "execution_count": null,
      "outputs": [
        {
          "output_type": "stream",
          "name": "stdout",
          "text": [
            "  adding: content/FBCNN/test_results/compressed60_fbcnn_color/ (stored 0%)\n",
            "  adding: content/FBCNN/test_results/compressed60_fbcnn_color/compressed60_fbcnn_color.log (deflated 82%)\n",
            "  adding: content/FBCNN/test_results/compressed60_fbcnn_color/0000000466.png (deflated 4%)\n",
            "  adding: content/FBCNN/test_results/compressed60_fbcnn_color/0000000487.png (deflated 3%)\n",
            "  adding: content/FBCNN/test_results/compressed60_fbcnn_color/0000000484.png (deflated 3%)\n",
            "  adding: content/FBCNN/test_results/compressed60_fbcnn_color/0000000492.png (deflated 4%)\n",
            "  adding: content/FBCNN/test_results/compressed60_fbcnn_color/0000000470.png (deflated 3%)\n",
            "  adding: content/FBCNN/test_results/compressed60_fbcnn_color/0000000467.png (deflated 4%)\n",
            "  adding: content/FBCNN/test_results/compressed60_fbcnn_color/0000000459.png (deflated 3%)\n",
            "  adding: content/FBCNN/test_results/compressed60_fbcnn_color/0000000485.png (deflated 3%)\n",
            "  adding: content/FBCNN/test_results/compressed60_fbcnn_color/0000000478.png (deflated 3%)\n",
            "  adding: content/FBCNN/test_results/compressed60_fbcnn_color/0000000489.png (deflated 4%)\n",
            "  adding: content/FBCNN/test_results/compressed60_fbcnn_color/0000000465.png (deflated 4%)\n",
            "  adding: content/FBCNN/test_results/compressed60_fbcnn_color/0000000461.png (deflated 4%)\n",
            "  adding: content/FBCNN/test_results/compressed60_fbcnn_color/0000000455.png (deflated 3%)\n",
            "  adding: content/FBCNN/test_results/compressed60_fbcnn_color/0000000458.png (deflated 3%)\n",
            "  adding: content/FBCNN/test_results/compressed60_fbcnn_color/0000000456.png (deflated 3%)\n",
            "  adding: content/FBCNN/test_results/compressed60_fbcnn_color/0000000491.png (deflated 4%)\n",
            "  adding: content/FBCNN/test_results/compressed60_fbcnn_color/0000000457.png (deflated 4%)\n",
            "  adding: content/FBCNN/test_results/compressed60_fbcnn_color/0000000483.png (deflated 3%)\n",
            "  adding: content/FBCNN/test_results/compressed60_fbcnn_color/0000000481.png (deflated 3%)\n",
            "  adding: content/FBCNN/test_results/compressed60_fbcnn_color/0000000462.png (deflated 4%)\n",
            "  adding: content/FBCNN/test_results/compressed60_fbcnn_color/0000000476.png (deflated 3%)\n",
            "  adding: content/FBCNN/test_results/compressed60_fbcnn_color/0000000486.png (deflated 3%)\n",
            "  adding: content/FBCNN/test_results/compressed60_fbcnn_color/0000000488.png (deflated 3%)\n",
            "  adding: content/FBCNN/test_results/compressed60_fbcnn_color/0000000475.png (deflated 3%)\n",
            "  adding: content/FBCNN/test_results/compressed60_fbcnn_color/0000000482.png (deflated 3%)\n",
            "  adding: content/FBCNN/test_results/compressed60_fbcnn_color/0000000469.png (deflated 3%)\n",
            "  adding: content/FBCNN/test_results/compressed60_fbcnn_color/0000000463.png (deflated 4%)\n",
            "  adding: content/FBCNN/test_results/compressed60_fbcnn_color/0000000471.png (deflated 3%)\n",
            "  adding: content/FBCNN/test_results/compressed60_fbcnn_color/0000000479.png (deflated 3%)\n",
            "  adding: content/FBCNN/test_results/compressed60_fbcnn_color/0000000460.png (deflated 3%)\n",
            "  adding: content/FBCNN/test_results/compressed60_fbcnn_color/0000000490.png (deflated 4%)\n",
            "  adding: content/FBCNN/test_results/compressed60_fbcnn_color/0000000477.png (deflated 3%)\n",
            "  adding: content/FBCNN/test_results/compressed60_fbcnn_color/0000000480.png (deflated 3%)\n",
            "  adding: content/FBCNN/test_results/compressed60_fbcnn_color/0000000452.png (deflated 3%)\n",
            "  adding: content/FBCNN/test_results/compressed60_fbcnn_color/0000000451.png (deflated 3%)\n",
            "  adding: content/FBCNN/test_results/compressed60_fbcnn_color/0000000472.png (deflated 3%)\n",
            "  adding: content/FBCNN/test_results/compressed60_fbcnn_color/0000000474.png (deflated 3%)\n",
            "  adding: content/FBCNN/test_results/compressed60_fbcnn_color/0000000473.png (deflated 3%)\n",
            "  adding: content/FBCNN/test_results/compressed60_fbcnn_color/0000000454.png (deflated 3%)\n",
            "  adding: content/FBCNN/test_results/compressed60_fbcnn_color/0000000468.png (deflated 3%)\n",
            "  adding: content/FBCNN/test_results/compressed60_fbcnn_color/0000000464.png (deflated 4%)\n",
            "  adding: content/FBCNN/test_results/compressed60_fbcnn_color/0000000453.png (deflated 3%)\n"
          ]
        },
        {
          "output_type": "display_data",
          "data": {
            "text/plain": [
              "<IPython.core.display.Javascript object>"
            ],
            "application/javascript": [
              "\n",
              "    async function download(id, filename, size) {\n",
              "      if (!google.colab.kernel.accessAllowed) {\n",
              "        return;\n",
              "      }\n",
              "      const div = document.createElement('div');\n",
              "      const label = document.createElement('label');\n",
              "      label.textContent = `Downloading \"${filename}\": `;\n",
              "      div.appendChild(label);\n",
              "      const progress = document.createElement('progress');\n",
              "      progress.max = size;\n",
              "      div.appendChild(progress);\n",
              "      document.body.appendChild(div);\n",
              "\n",
              "      const buffers = [];\n",
              "      let downloaded = 0;\n",
              "\n",
              "      const channel = await google.colab.kernel.comms.open(id);\n",
              "      // Send a message to notify the kernel that we're ready.\n",
              "      channel.send({})\n",
              "\n",
              "      for await (const message of channel.messages) {\n",
              "        // Send a message to notify the kernel that we're ready.\n",
              "        channel.send({})\n",
              "        if (message.buffers) {\n",
              "          for (const buffer of message.buffers) {\n",
              "            buffers.push(buffer);\n",
              "            downloaded += buffer.byteLength;\n",
              "            progress.value = downloaded;\n",
              "          }\n",
              "        }\n",
              "      }\n",
              "      const blob = new Blob(buffers, {type: 'application/binary'});\n",
              "      const a = document.createElement('a');\n",
              "      a.href = window.URL.createObjectURL(blob);\n",
              "      a.download = filename;\n",
              "      div.appendChild(a);\n",
              "      a.click();\n",
              "      div.remove();\n",
              "    }\n",
              "  "
            ]
          },
          "metadata": {}
        },
        {
          "output_type": "display_data",
          "data": {
            "text/plain": [
              "<IPython.core.display.Javascript object>"
            ],
            "application/javascript": [
              "download(\"download_e5a7f703-ed74-4d56-b9bf-6138bced7725\", \"fbcnn60_track2.zip\", 161483843)"
            ]
          },
          "metadata": {}
        }
      ]
    },
    {
      "cell_type": "code",
      "source": [
        "!zip -r /content/fbcnn80_track2.zip /content/FBCNN/test_results/compressed80_fbcnn_color\n",
        "\n",
        "files.download('/content/fbcnn80_track2.zip')"
      ],
      "metadata": {
        "colab": {
          "base_uri": "https://localhost:8080/",
          "height": 798
        },
        "id": "DjRMi8-cFjMc",
        "outputId": "f8a4bee6-e223-44ba-9c83-31c34daafd08"
      },
      "execution_count": null,
      "outputs": [
        {
          "output_type": "stream",
          "name": "stdout",
          "text": [
            "  adding: content/FBCNN/test_results/compressed80_fbcnn_color/ (stored 0%)\n",
            "  adding: content/FBCNN/test_results/compressed80_fbcnn_color/0000000466.png (deflated 3%)\n",
            "  adding: content/FBCNN/test_results/compressed80_fbcnn_color/0000000487.png (deflated 3%)\n",
            "  adding: content/FBCNN/test_results/compressed80_fbcnn_color/0000000484.png (deflated 2%)\n",
            "  adding: content/FBCNN/test_results/compressed80_fbcnn_color/0000000492.png (deflated 3%)\n",
            "  adding: content/FBCNN/test_results/compressed80_fbcnn_color/0000000470.png (deflated 3%)\n",
            "  adding: content/FBCNN/test_results/compressed80_fbcnn_color/0000000467.png (deflated 3%)\n",
            "  adding: content/FBCNN/test_results/compressed80_fbcnn_color/compressed80_fbcnn_color.log (deflated 82%)\n",
            "  adding: content/FBCNN/test_results/compressed80_fbcnn_color/0000000459.png (deflated 3%)\n",
            "  adding: content/FBCNN/test_results/compressed80_fbcnn_color/0000000485.png (deflated 2%)\n",
            "  adding: content/FBCNN/test_results/compressed80_fbcnn_color/0000000478.png (deflated 3%)\n",
            "  adding: content/FBCNN/test_results/compressed80_fbcnn_color/0000000489.png (deflated 3%)\n",
            "  adding: content/FBCNN/test_results/compressed80_fbcnn_color/0000000465.png (deflated 3%)\n",
            "  adding: content/FBCNN/test_results/compressed80_fbcnn_color/0000000461.png (deflated 3%)\n",
            "  adding: content/FBCNN/test_results/compressed80_fbcnn_color/0000000455.png (deflated 3%)\n",
            "  adding: content/FBCNN/test_results/compressed80_fbcnn_color/0000000458.png (deflated 3%)\n",
            "  adding: content/FBCNN/test_results/compressed80_fbcnn_color/0000000456.png (deflated 3%)\n",
            "  adding: content/FBCNN/test_results/compressed80_fbcnn_color/0000000491.png (deflated 3%)\n",
            "  adding: content/FBCNN/test_results/compressed80_fbcnn_color/0000000457.png (deflated 3%)\n",
            "  adding: content/FBCNN/test_results/compressed80_fbcnn_color/0000000483.png (deflated 3%)\n",
            "  adding: content/FBCNN/test_results/compressed80_fbcnn_color/0000000481.png (deflated 3%)\n",
            "  adding: content/FBCNN/test_results/compressed80_fbcnn_color/0000000462.png (deflated 3%)\n",
            "  adding: content/FBCNN/test_results/compressed80_fbcnn_color/0000000476.png (deflated 3%)\n",
            "  adding: content/FBCNN/test_results/compressed80_fbcnn_color/0000000486.png (deflated 3%)\n",
            "  adding: content/FBCNN/test_results/compressed80_fbcnn_color/0000000488.png (deflated 3%)\n",
            "  adding: content/FBCNN/test_results/compressed80_fbcnn_color/0000000475.png (deflated 3%)\n",
            "  adding: content/FBCNN/test_results/compressed80_fbcnn_color/0000000482.png (deflated 3%)\n",
            "  adding: content/FBCNN/test_results/compressed80_fbcnn_color/0000000469.png (deflated 3%)\n",
            "  adding: content/FBCNN/test_results/compressed80_fbcnn_color/0000000463.png (deflated 3%)\n",
            "  adding: content/FBCNN/test_results/compressed80_fbcnn_color/0000000471.png (deflated 3%)\n",
            "  adding: content/FBCNN/test_results/compressed80_fbcnn_color/0000000479.png (deflated 3%)\n",
            "  adding: content/FBCNN/test_results/compressed80_fbcnn_color/0000000460.png (deflated 3%)\n",
            "  adding: content/FBCNN/test_results/compressed80_fbcnn_color/0000000490.png (deflated 3%)\n",
            "  adding: content/FBCNN/test_results/compressed80_fbcnn_color/0000000477.png (deflated 3%)\n",
            "  adding: content/FBCNN/test_results/compressed80_fbcnn_color/0000000480.png (deflated 3%)\n",
            "  adding: content/FBCNN/test_results/compressed80_fbcnn_color/0000000452.png (deflated 3%)\n",
            "  adding: content/FBCNN/test_results/compressed80_fbcnn_color/0000000451.png (deflated 3%)\n",
            "  adding: content/FBCNN/test_results/compressed80_fbcnn_color/0000000472.png (deflated 3%)\n",
            "  adding: content/FBCNN/test_results/compressed80_fbcnn_color/0000000474.png (deflated 3%)\n",
            "  adding: content/FBCNN/test_results/compressed80_fbcnn_color/0000000473.png (deflated 3%)\n",
            "  adding: content/FBCNN/test_results/compressed80_fbcnn_color/0000000454.png (deflated 3%)\n",
            "  adding: content/FBCNN/test_results/compressed80_fbcnn_color/0000000468.png (deflated 3%)\n",
            "  adding: content/FBCNN/test_results/compressed80_fbcnn_color/0000000464.png (deflated 3%)\n",
            "  adding: content/FBCNN/test_results/compressed80_fbcnn_color/0000000453.png (deflated 3%)\n"
          ]
        },
        {
          "output_type": "display_data",
          "data": {
            "text/plain": [
              "<IPython.core.display.Javascript object>"
            ],
            "application/javascript": [
              "\n",
              "    async function download(id, filename, size) {\n",
              "      if (!google.colab.kernel.accessAllowed) {\n",
              "        return;\n",
              "      }\n",
              "      const div = document.createElement('div');\n",
              "      const label = document.createElement('label');\n",
              "      label.textContent = `Downloading \"${filename}\": `;\n",
              "      div.appendChild(label);\n",
              "      const progress = document.createElement('progress');\n",
              "      progress.max = size;\n",
              "      div.appendChild(progress);\n",
              "      document.body.appendChild(div);\n",
              "\n",
              "      const buffers = [];\n",
              "      let downloaded = 0;\n",
              "\n",
              "      const channel = await google.colab.kernel.comms.open(id);\n",
              "      // Send a message to notify the kernel that we're ready.\n",
              "      channel.send({})\n",
              "\n",
              "      for await (const message of channel.messages) {\n",
              "        // Send a message to notify the kernel that we're ready.\n",
              "        channel.send({})\n",
              "        if (message.buffers) {\n",
              "          for (const buffer of message.buffers) {\n",
              "            buffers.push(buffer);\n",
              "            downloaded += buffer.byteLength;\n",
              "            progress.value = downloaded;\n",
              "          }\n",
              "        }\n",
              "      }\n",
              "      const blob = new Blob(buffers, {type: 'application/binary'});\n",
              "      const a = document.createElement('a');\n",
              "      a.href = window.URL.createObjectURL(blob);\n",
              "      a.download = filename;\n",
              "      div.appendChild(a);\n",
              "      a.click();\n",
              "      div.remove();\n",
              "    }\n",
              "  "
            ]
          },
          "metadata": {}
        },
        {
          "output_type": "display_data",
          "data": {
            "text/plain": [
              "<IPython.core.display.Javascript object>"
            ],
            "application/javascript": [
              "download(\"download_a9f1ac04-f61e-456b-b214-589bda871d99\", \"fbcnn80_track2.zip\", 173537962)"
            ]
          },
          "metadata": {}
        }
      ]
    },
    {
      "cell_type": "code",
      "source": [
        "!zip -r /content/fbcnn90_track2.zip /content/FBCNN/test_results/compressed90_fbcnn_color\n",
        "\n",
        "files.download('/content/fbcnn90_track2.zip')"
      ],
      "metadata": {
        "colab": {
          "base_uri": "https://localhost:8080/",
          "height": 798
        },
        "id": "gk6-DHG4FxyB",
        "outputId": "e1196e32-9203-4faa-a58e-5f7682f90138"
      },
      "execution_count": null,
      "outputs": [
        {
          "output_type": "stream",
          "name": "stdout",
          "text": [
            "  adding: content/FBCNN/test_results/compressed90_fbcnn_color/ (stored 0%)\n",
            "  adding: content/FBCNN/test_results/compressed90_fbcnn_color/0000000466.png (deflated 2%)\n",
            "  adding: content/FBCNN/test_results/compressed90_fbcnn_color/0000000487.png (deflated 2%)\n",
            "  adding: content/FBCNN/test_results/compressed90_fbcnn_color/0000000484.png (deflated 2%)\n",
            "  adding: content/FBCNN/test_results/compressed90_fbcnn_color/0000000492.png (deflated 3%)\n",
            "  adding: content/FBCNN/test_results/compressed90_fbcnn_color/0000000470.png (deflated 2%)\n",
            "  adding: content/FBCNN/test_results/compressed90_fbcnn_color/0000000467.png (deflated 2%)\n",
            "  adding: content/FBCNN/test_results/compressed90_fbcnn_color/0000000459.png (deflated 2%)\n",
            "  adding: content/FBCNN/test_results/compressed90_fbcnn_color/0000000485.png (deflated 2%)\n",
            "  adding: content/FBCNN/test_results/compressed90_fbcnn_color/0000000478.png (deflated 2%)\n",
            "  adding: content/FBCNN/test_results/compressed90_fbcnn_color/0000000489.png (deflated 3%)\n",
            "  adding: content/FBCNN/test_results/compressed90_fbcnn_color/0000000465.png (deflated 2%)\n",
            "  adding: content/FBCNN/test_results/compressed90_fbcnn_color/0000000461.png (deflated 3%)\n",
            "  adding: content/FBCNN/test_results/compressed90_fbcnn_color/0000000455.png (deflated 2%)\n",
            "  adding: content/FBCNN/test_results/compressed90_fbcnn_color/0000000458.png (deflated 2%)\n",
            "  adding: content/FBCNN/test_results/compressed90_fbcnn_color/0000000456.png (deflated 2%)\n",
            "  adding: content/FBCNN/test_results/compressed90_fbcnn_color/0000000491.png (deflated 3%)\n",
            "  adding: content/FBCNN/test_results/compressed90_fbcnn_color/0000000457.png (deflated 2%)\n",
            "  adding: content/FBCNN/test_results/compressed90_fbcnn_color/0000000483.png (deflated 2%)\n",
            "  adding: content/FBCNN/test_results/compressed90_fbcnn_color/0000000481.png (deflated 2%)\n",
            "  adding: content/FBCNN/test_results/compressed90_fbcnn_color/0000000462.png (deflated 2%)\n",
            "  adding: content/FBCNN/test_results/compressed90_fbcnn_color/0000000476.png (deflated 2%)\n",
            "  adding: content/FBCNN/test_results/compressed90_fbcnn_color/0000000486.png (deflated 2%)\n",
            "  adding: content/FBCNN/test_results/compressed90_fbcnn_color/0000000488.png (deflated 2%)\n",
            "  adding: content/FBCNN/test_results/compressed90_fbcnn_color/0000000475.png (deflated 2%)\n",
            "  adding: content/FBCNN/test_results/compressed90_fbcnn_color/compressed90_fbcnn_color.log (deflated 82%)\n",
            "  adding: content/FBCNN/test_results/compressed90_fbcnn_color/0000000482.png (deflated 2%)\n",
            "  adding: content/FBCNN/test_results/compressed90_fbcnn_color/0000000469.png (deflated 2%)\n",
            "  adding: content/FBCNN/test_results/compressed90_fbcnn_color/0000000463.png (deflated 3%)\n",
            "  adding: content/FBCNN/test_results/compressed90_fbcnn_color/0000000471.png (deflated 2%)\n",
            "  adding: content/FBCNN/test_results/compressed90_fbcnn_color/0000000479.png (deflated 2%)\n",
            "  adding: content/FBCNN/test_results/compressed90_fbcnn_color/0000000460.png (deflated 3%)\n",
            "  adding: content/FBCNN/test_results/compressed90_fbcnn_color/0000000490.png (deflated 3%)\n",
            "  adding: content/FBCNN/test_results/compressed90_fbcnn_color/0000000477.png (deflated 2%)\n",
            "  adding: content/FBCNN/test_results/compressed90_fbcnn_color/0000000480.png (deflated 2%)\n",
            "  adding: content/FBCNN/test_results/compressed90_fbcnn_color/0000000452.png (deflated 2%)\n",
            "  adding: content/FBCNN/test_results/compressed90_fbcnn_color/0000000451.png (deflated 2%)\n",
            "  adding: content/FBCNN/test_results/compressed90_fbcnn_color/0000000472.png (deflated 2%)\n",
            "  adding: content/FBCNN/test_results/compressed90_fbcnn_color/0000000474.png (deflated 2%)\n",
            "  adding: content/FBCNN/test_results/compressed90_fbcnn_color/0000000473.png (deflated 2%)\n",
            "  adding: content/FBCNN/test_results/compressed90_fbcnn_color/0000000454.png (deflated 2%)\n",
            "  adding: content/FBCNN/test_results/compressed90_fbcnn_color/0000000468.png (deflated 2%)\n",
            "  adding: content/FBCNN/test_results/compressed90_fbcnn_color/0000000464.png (deflated 3%)\n",
            "  adding: content/FBCNN/test_results/compressed90_fbcnn_color/0000000453.png (deflated 2%)\n"
          ]
        },
        {
          "output_type": "display_data",
          "data": {
            "text/plain": [
              "<IPython.core.display.Javascript object>"
            ],
            "application/javascript": [
              "\n",
              "    async function download(id, filename, size) {\n",
              "      if (!google.colab.kernel.accessAllowed) {\n",
              "        return;\n",
              "      }\n",
              "      const div = document.createElement('div');\n",
              "      const label = document.createElement('label');\n",
              "      label.textContent = `Downloading \"${filename}\": `;\n",
              "      div.appendChild(label);\n",
              "      const progress = document.createElement('progress');\n",
              "      progress.max = size;\n",
              "      div.appendChild(progress);\n",
              "      document.body.appendChild(div);\n",
              "\n",
              "      const buffers = [];\n",
              "      let downloaded = 0;\n",
              "\n",
              "      const channel = await google.colab.kernel.comms.open(id);\n",
              "      // Send a message to notify the kernel that we're ready.\n",
              "      channel.send({})\n",
              "\n",
              "      for await (const message of channel.messages) {\n",
              "        // Send a message to notify the kernel that we're ready.\n",
              "        channel.send({})\n",
              "        if (message.buffers) {\n",
              "          for (const buffer of message.buffers) {\n",
              "            buffers.push(buffer);\n",
              "            downloaded += buffer.byteLength;\n",
              "            progress.value = downloaded;\n",
              "          }\n",
              "        }\n",
              "      }\n",
              "      const blob = new Blob(buffers, {type: 'application/binary'});\n",
              "      const a = document.createElement('a');\n",
              "      a.href = window.URL.createObjectURL(blob);\n",
              "      a.download = filename;\n",
              "      div.appendChild(a);\n",
              "      a.click();\n",
              "      div.remove();\n",
              "    }\n",
              "  "
            ]
          },
          "metadata": {}
        },
        {
          "output_type": "display_data",
          "data": {
            "text/plain": [
              "<IPython.core.display.Javascript object>"
            ],
            "application/javascript": [
              "download(\"download_601c5aa7-c298-4c0a-853b-45a2a3b4db49\", \"fbcnn90_track2.zip\", 183868017)"
            ]
          },
          "metadata": {}
        }
      ]
    },
    {
      "cell_type": "code",
      "source": [
        "!zip -r /content/fbcnn100_track2.zip /content/FBCNN/test_results/compressed100_fbcnn_color\n",
        "\n",
        "files.download('/content/fbcnn100_track2.zip')"
      ],
      "metadata": {
        "colab": {
          "base_uri": "https://localhost:8080/",
          "height": 798
        },
        "id": "Dqv7Y1ceF1Np",
        "outputId": "54eca8c4-093e-4d67-d2ac-e67317f10d3a"
      },
      "execution_count": null,
      "outputs": [
        {
          "output_type": "stream",
          "name": "stdout",
          "text": [
            "  adding: content/FBCNN/test_results/compressed100_fbcnn_color/ (stored 0%)\n",
            "  adding: content/FBCNN/test_results/compressed100_fbcnn_color/0000000454_compressed.png (deflated 2%)\n",
            "  adding: content/FBCNN/test_results/compressed100_fbcnn_color/0000000485_compressed.png (deflated 2%)\n",
            "  adding: content/FBCNN/test_results/compressed100_fbcnn_color/0000000457_compressed.png (deflated 2%)\n",
            "  adding: content/FBCNN/test_results/compressed100_fbcnn_color/0000000479_compressed.png (deflated 2%)\n",
            "  adding: content/FBCNN/test_results/compressed100_fbcnn_color/0000000470_compressed.png (deflated 2%)\n",
            "  adding: content/FBCNN/test_results/compressed100_fbcnn_color/0000000464_compressed.png (deflated 2%)\n",
            "  adding: content/FBCNN/test_results/compressed100_fbcnn_color/0000000456_compressed.png (deflated 2%)\n",
            "  adding: content/FBCNN/test_results/compressed100_fbcnn_color/0000000463_compressed.png (deflated 2%)\n",
            "  adding: content/FBCNN/test_results/compressed100_fbcnn_color/0000000455_compressed.png (deflated 2%)\n",
            "  adding: content/FBCNN/test_results/compressed100_fbcnn_color/compressed100_fbcnn_color.log (deflated 83%)\n",
            "  adding: content/FBCNN/test_results/compressed100_fbcnn_color/0000000477_compressed.png (deflated 2%)\n",
            "  adding: content/FBCNN/test_results/compressed100_fbcnn_color/0000000483_compressed.png (deflated 2%)\n",
            "  adding: content/FBCNN/test_results/compressed100_fbcnn_color/0000000481_compressed.png (deflated 2%)\n",
            "  adding: content/FBCNN/test_results/compressed100_fbcnn_color/0000000484_compressed.png (deflated 2%)\n",
            "  adding: content/FBCNN/test_results/compressed100_fbcnn_color/0000000480_compressed.png (deflated 2%)\n",
            "  adding: content/FBCNN/test_results/compressed100_fbcnn_color/0000000465_compressed.png (deflated 2%)\n",
            "  adding: content/FBCNN/test_results/compressed100_fbcnn_color/0000000452_compressed.png (deflated 2%)\n",
            "  adding: content/FBCNN/test_results/compressed100_fbcnn_color/0000000492_compressed.png (deflated 2%)\n",
            "  adding: content/FBCNN/test_results/compressed100_fbcnn_color/0000000466_compressed.png (deflated 2%)\n",
            "  adding: content/FBCNN/test_results/compressed100_fbcnn_color/0000000467_compressed.png (deflated 2%)\n",
            "  adding: content/FBCNN/test_results/compressed100_fbcnn_color/0000000462_compressed.png (deflated 2%)\n",
            "  adding: content/FBCNN/test_results/compressed100_fbcnn_color/0000000486_compressed.png (deflated 2%)\n",
            "  adding: content/FBCNN/test_results/compressed100_fbcnn_color/0000000472_compressed.png (deflated 2%)\n",
            "  adding: content/FBCNN/test_results/compressed100_fbcnn_color/0000000461_compressed.png (deflated 2%)\n",
            "  adding: content/FBCNN/test_results/compressed100_fbcnn_color/0000000473_compressed.png (deflated 2%)\n",
            "  adding: content/FBCNN/test_results/compressed100_fbcnn_color/0000000474_compressed.png (deflated 2%)\n",
            "  adding: content/FBCNN/test_results/compressed100_fbcnn_color/0000000476_compressed.png (deflated 2%)\n",
            "  adding: content/FBCNN/test_results/compressed100_fbcnn_color/0000000453_compressed.png (deflated 2%)\n",
            "  adding: content/FBCNN/test_results/compressed100_fbcnn_color/0000000491_compressed.png (deflated 2%)\n",
            "  adding: content/FBCNN/test_results/compressed100_fbcnn_color/0000000469_compressed.png (deflated 2%)\n",
            "  adding: content/FBCNN/test_results/compressed100_fbcnn_color/0000000471_compressed.png (deflated 2%)\n",
            "  adding: content/FBCNN/test_results/compressed100_fbcnn_color/0000000478_compressed.png (deflated 2%)\n",
            "  adding: content/FBCNN/test_results/compressed100_fbcnn_color/0000000489_compressed.png (deflated 2%)\n",
            "  adding: content/FBCNN/test_results/compressed100_fbcnn_color/0000000459_compressed.png (deflated 2%)\n",
            "  adding: content/FBCNN/test_results/compressed100_fbcnn_color/0000000482_compressed.png (deflated 2%)\n",
            "  adding: content/FBCNN/test_results/compressed100_fbcnn_color/0000000475_compressed.png (deflated 2%)\n",
            "  adding: content/FBCNN/test_results/compressed100_fbcnn_color/0000000487_compressed.png (deflated 2%)\n",
            "  adding: content/FBCNN/test_results/compressed100_fbcnn_color/0000000468_compressed.png (deflated 2%)\n",
            "  adding: content/FBCNN/test_results/compressed100_fbcnn_color/0000000490_compressed.png (deflated 2%)\n",
            "  adding: content/FBCNN/test_results/compressed100_fbcnn_color/0000000458_compressed.png (deflated 2%)\n",
            "  adding: content/FBCNN/test_results/compressed100_fbcnn_color/0000000460_compressed.png (deflated 2%)\n",
            "  adding: content/FBCNN/test_results/compressed100_fbcnn_color/0000000451_compressed.png (deflated 2%)\n",
            "  adding: content/FBCNN/test_results/compressed100_fbcnn_color/0000000488_compressed.png (deflated 2%)\n"
          ]
        },
        {
          "output_type": "display_data",
          "data": {
            "text/plain": [
              "<IPython.core.display.Javascript object>"
            ],
            "application/javascript": [
              "\n",
              "    async function download(id, filename, size) {\n",
              "      if (!google.colab.kernel.accessAllowed) {\n",
              "        return;\n",
              "      }\n",
              "      const div = document.createElement('div');\n",
              "      const label = document.createElement('label');\n",
              "      label.textContent = `Downloading \"${filename}\": `;\n",
              "      div.appendChild(label);\n",
              "      const progress = document.createElement('progress');\n",
              "      progress.max = size;\n",
              "      div.appendChild(progress);\n",
              "      document.body.appendChild(div);\n",
              "\n",
              "      const buffers = [];\n",
              "      let downloaded = 0;\n",
              "\n",
              "      const channel = await google.colab.kernel.comms.open(id);\n",
              "      // Send a message to notify the kernel that we're ready.\n",
              "      channel.send({})\n",
              "\n",
              "      for await (const message of channel.messages) {\n",
              "        // Send a message to notify the kernel that we're ready.\n",
              "        channel.send({})\n",
              "        if (message.buffers) {\n",
              "          for (const buffer of message.buffers) {\n",
              "            buffers.push(buffer);\n",
              "            downloaded += buffer.byteLength;\n",
              "            progress.value = downloaded;\n",
              "          }\n",
              "        }\n",
              "      }\n",
              "      const blob = new Blob(buffers, {type: 'application/binary'});\n",
              "      const a = document.createElement('a');\n",
              "      a.href = window.URL.createObjectURL(blob);\n",
              "      a.download = filename;\n",
              "      div.appendChild(a);\n",
              "      a.click();\n",
              "      div.remove();\n",
              "    }\n",
              "  "
            ]
          },
          "metadata": {}
        },
        {
          "output_type": "display_data",
          "data": {
            "text/plain": [
              "<IPython.core.display.Javascript object>"
            ],
            "application/javascript": [
              "download(\"download_700b1d16-afe9-40af-8561-056360fc0974\", \"fbcnn100_track2.zip\", 193712971)"
            ]
          },
          "metadata": {}
        }
      ]
    }
  ]
}