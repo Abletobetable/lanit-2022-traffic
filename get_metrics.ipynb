{
  "nbformat": 4,
  "nbformat_minor": 0,
  "metadata": {
    "colab": {
      "provenance": []
    },
    "kernelspec": {
      "name": "python3",
      "display_name": "Python 3"
    },
    "language_info": {
      "name": "python"
    }
  },
  "cells": [
    {
      "cell_type": "markdown",
      "source": [
        "# PSNR, SSIM, PSNR-B metrics for AR-CNN, DnCNN3, FBCNN  models"
      ],
      "metadata": {
        "id": "F1ybcV_5Y9jP"
      }
    },
    {
      "cell_type": "markdown",
      "source": [
        "##### imports and preprocessing"
      ],
      "metadata": {
        "id": "ZS4xTkivulS5"
      }
    },
    {
      "cell_type": "code",
      "source": [
        "!pip install sewar"
      ],
      "metadata": {
        "colab": {
          "base_uri": "https://localhost:8080/"
        },
        "id": "l-MqDTHYze1l",
        "outputId": "95808310-b927-4abc-f5e2-770a9ee1cc7a"
      },
      "execution_count": null,
      "outputs": [
        {
          "output_type": "stream",
          "name": "stdout",
          "text": [
            "Looking in indexes: https://pypi.org/simple, https://us-python.pkg.dev/colab-wheels/public/simple/\n",
            "Requirement already satisfied: sewar in /usr/local/lib/python3.7/dist-packages (0.4.5)\n",
            "Requirement already satisfied: numpy in /usr/local/lib/python3.7/dist-packages (from sewar) (1.21.6)\n",
            "Requirement already satisfied: scipy in /usr/local/lib/python3.7/dist-packages (from sewar) (1.7.3)\n",
            "Requirement already satisfied: Pillow in /usr/local/lib/python3.7/dist-packages (from sewar) (7.1.2)\n"
          ]
        }
      ]
    },
    {
      "cell_type": "code",
      "source": [
        "# Available metrics list:\n",
        "# mse, rmse, psnr, rmse_sw, uqi, ssim, ergas, scc, rase, sam, msssim, vifp, psnrb\n",
        "\n",
        "from sewar.full_ref import psnr\n",
        "from sewar.full_ref import ssim\n",
        "from sewar.full_ref import psnrb\n",
        "\n",
        "import os\n",
        "import numpy as np\n",
        "import pandas as pd\n",
        "import cv2\n",
        "\n",
        "from google.colab import files\n",
        "from google.colab import drive\n",
        "from zipfile import ZipFile"
      ],
      "metadata": {
        "id": "-kxX8xrEwLdW"
      },
      "execution_count": null,
      "outputs": []
    },
    {
      "cell_type": "code",
      "source": [
        "def get_list_of_img(folder):\n",
        "    \"\"\"\n",
        "    input: folder where images are\n",
        "    output: list of images directories\n",
        "    \"\"\"\n",
        "    img_list = []\n",
        "    for image in os.listdir(f'/content/{folder}'):\n",
        "        if image != '.ipynb_checkpoints':\n",
        "            img_list.append(f'/content/{folder}/'+image)\n",
        "    return img_list"
      ],
      "metadata": {
        "id": "n16YUKvxrBcr"
      },
      "execution_count": null,
      "outputs": []
    },
    {
      "cell_type": "code",
      "source": [
        "def get_mean_psnr(truth_folder, processed_folder):\n",
        "    values = np.array([])\n",
        "    for t, r in zip(get_list_of_img(truth_folder), get_list_of_img(processed_folder)):\n",
        "        t_img = cv2.imread(t)\n",
        "        r_img = cv2.imread(r)\n",
        "        values = np.append(values, psnr(t_img, r_img))\n",
        "    return np.mean(values)\n",
        "\n",
        "def get_mean_ssim(truth_folder, processed_folder):\n",
        "    values = np.array([])\n",
        "    for t, r in zip(get_list_of_img(truth_folder), get_list_of_img(processed_folder)):\n",
        "        t_img = cv2.imread(t)\n",
        "        r_img = cv2.imread(r)\n",
        "        values = np.append(values, ssim(t_img, r_img))\n",
        "    return np.mean(values)\n",
        "\n",
        "def get_mean_psnrb(truth_folder, processed_folder):\n",
        "    values = np.array([])\n",
        "    for t, r in zip(get_list_of_img(truth_folder), get_list_of_img(processed_folder)):\n",
        "        t_img = cv2.imread(t)\n",
        "        r_img = cv2.imread(r)\n",
        "        values = np.append(values, psnrb(t_img, r_img))\n",
        "    return np.mean(values)"
      ],
      "metadata": {
        "id": "3cMYkHgK3goP"
      },
      "execution_count": null,
      "outputs": []
    },
    {
      "cell_type": "markdown",
      "source": [
        "###### load data from google drive"
      ],
      "metadata": {
        "id": "C_NIE9ostCSm"
      }
    },
    {
      "cell_type": "code",
      "execution_count": null,
      "metadata": {
        "id": "RU4C3ufNf7p-",
        "colab": {
          "base_uri": "https://localhost:8080/"
        },
        "outputId": "20b7e417-4203-4df3-bcc2-3cff1f2cf25b"
      },
      "outputs": [
        {
          "output_type": "stream",
          "name": "stdout",
          "text": [
            "Drive already mounted at /content/gdrive; to attempt to forcibly remount, call drive.mount(\"/content/gdrive\", force_remount=True).\n"
          ]
        }
      ],
      "source": [
        "drive.mount('/content/gdrive')"
      ]
    },
    {
      "cell_type": "code",
      "source": [
        "# name of folders on the drive\n",
        "TRUTH = 'ground_truth_color'\n",
        "COMPRESSED = 'compressed'\n",
        "\n",
        "with ZipFile(f'/content/gdrive/MyDrive/{TRUTH}.zip', 'r') as dataset_zip:\n",
        "    dataset_zip.extractall('/content/ground_truth')\n",
        "\n",
        "with ZipFile(f'/content/gdrive/MyDrive/{COMPRESSED}.zip', 'r') as dataset_zip:\n",
        "    dataset_zip.extractall('/content/compressed')"
      ],
      "metadata": {
        "id": "quU407ZYtZ21"
      },
      "execution_count": null,
      "outputs": []
    },
    {
      "cell_type": "markdown",
      "source": [
        "## metrics\n",
        "\n",
        "load restored dataset"
      ],
      "metadata": {
        "id": "7zi6mpFtl9Tw"
      }
    },
    {
      "cell_type": "markdown",
      "source": [
        "### ARCNN"
      ],
      "metadata": {
        "id": "xNBShBhryTw7"
      }
    },
    {
      "cell_type": "code",
      "source": [
        "RESTORED = 'results_ARCNN'\n",
        "\n",
        "with ZipFile(f'/content/gdrive/MyDrive/{RESTORED}.zip', 'r') as dataset_zip:\n",
        "    dataset_zip.extractall('/content/restored')"
      ],
      "metadata": {
        "id": "YrJG1pXlxijf"
      },
      "execution_count": null,
      "outputs": []
    },
    {
      "cell_type": "markdown",
      "source": [
        "##### PSNR"
      ],
      "metadata": {
        "id": "ktrpFzm1utY7"
      }
    },
    {
      "cell_type": "code",
      "source": [
        "psnr_arcnn = get_mean_psnr('ground_truth', 'restored')\n",
        "\n",
        "print('ground_truth <-> restored:')\n",
        "print(psnr_arcnn)\n",
        "print('\\nground_truth <-> compressed:')\n",
        "print(get_mean_psnr('ground_truth', 'compressed'))"
      ],
      "metadata": {
        "id": "2Td36Au7l89g",
        "colab": {
          "base_uri": "https://localhost:8080/"
        },
        "outputId": "1ce3c4dc-82a4-4857-e8d3-9e3aca0af108"
      },
      "execution_count": null,
      "outputs": [
        {
          "output_type": "stream",
          "name": "stdout",
          "text": [
            "ground_truth <-> restored:\n",
            "21.174509491807292\n",
            "\n",
            "ground_truth <-> compressed:\n",
            "21.039983010995275\n"
          ]
        }
      ]
    },
    {
      "cell_type": "markdown",
      "source": [
        "##### SSIM"
      ],
      "metadata": {
        "id": "GgIm5bpSuwBQ"
      }
    },
    {
      "cell_type": "code",
      "source": [
        "ssim_arcnn = get_mean_ssim('ground_truth', 'restored')"
      ],
      "metadata": {
        "id": "jJ7JpluCY2J2"
      },
      "execution_count": null,
      "outputs": []
    },
    {
      "cell_type": "code",
      "source": [
        "ssim_arcnn = get_mean_ssim('ground_truth', 'restored')\n",
        "\n",
        "print('ground_truth <-> restored:')\n",
        "print(ssim_arcnn)\n",
        "print('\\nground_truth <-> compressed:')\n",
        "print(get_mean_ssim('ground_truth', 'compressed'))"
      ],
      "metadata": {
        "id": "ZMqjw3chuyhx",
        "colab": {
          "base_uri": "https://localhost:8080/"
        },
        "outputId": "3342fcb5-513f-42ec-d151-8ac66a80bdcb"
      },
      "execution_count": null,
      "outputs": [
        {
          "output_type": "stream",
          "name": "stdout",
          "text": [
            "ground_truth <-> restored:\n",
            "0.8090983654460845\n",
            "\n",
            "ground_truth <-> compressed:\n",
            "0.7775750837956826\n"
          ]
        }
      ]
    },
    {
      "cell_type": "markdown",
      "source": [
        "##### PSNR-B"
      ],
      "metadata": {
        "id": "bX39UuyDwJuI"
      }
    },
    {
      "cell_type": "code",
      "source": [
        "psnrb_arcnn = get_mean_psnrb('ground_truth', 'restored')\n",
        "\n",
        "print('ground_truth <-> restored:')\n",
        "print(psnrb_arcnn)\n",
        "print('\\nground_truth <-> compressed:')\n",
        "print(get_mean_psnrb('ground_truth', 'compressed'))"
      ],
      "metadata": {
        "id": "9eY5_LRezy5c",
        "colab": {
          "base_uri": "https://localhost:8080/"
        },
        "outputId": "90470efe-b169-4c9d-a5c8-21b6b7c5531c"
      },
      "execution_count": null,
      "outputs": [
        {
          "output_type": "stream",
          "name": "stdout",
          "text": [
            "ground_truth <-> restored:\n",
            "21.127275921976498\n",
            "\n",
            "ground_truth <-> compressed:\n",
            "20.917467121465815\n"
          ]
        }
      ]
    },
    {
      "cell_type": "markdown",
      "source": [
        "### DnCNN3"
      ],
      "metadata": {
        "id": "Zfa4Krf46ct_"
      }
    },
    {
      "cell_type": "code",
      "source": [
        "RESTORED = 'results_DNCNN3'\n",
        "\n",
        "with ZipFile(f'/content/gdrive/MyDrive/{RESTORED}.zip', 'r') as dataset_zip:\n",
        "    dataset_zip.extractall('/content/restored')"
      ],
      "metadata": {
        "id": "bMujKKgX6fXB"
      },
      "execution_count": null,
      "outputs": []
    },
    {
      "cell_type": "markdown",
      "source": [
        "##### PSNR"
      ],
      "metadata": {
        "id": "zqlOBxFH6n-l"
      }
    },
    {
      "cell_type": "code",
      "source": [
        "psnr_dncnn3 = get_mean_psnr('ground_truth', 'restored')\n",
        "\n",
        "print('ground_truth <-> restored:')\n",
        "print(psnr_dncnn3)\n",
        "print('\\nground_truth <-> compressed:')\n",
        "print(get_mean_psnr('ground_truth', 'compressed'))"
      ],
      "metadata": {
        "colab": {
          "base_uri": "https://localhost:8080/"
        },
        "id": "St2amvkd6p-S",
        "outputId": "ec42764f-84df-4bf2-ac6a-ffea1acff047"
      },
      "execution_count": null,
      "outputs": [
        {
          "output_type": "stream",
          "name": "stdout",
          "text": [
            "ground_truth <-> restored:\n",
            "21.179345884159506\n",
            "\n",
            "ground_truth <-> compressed:\n",
            "21.039983010995275\n"
          ]
        }
      ]
    },
    {
      "cell_type": "markdown",
      "source": [
        "##### SSIM"
      ],
      "metadata": {
        "id": "ga-bSKIf6qoo"
      }
    },
    {
      "cell_type": "code",
      "source": [
        "ssim_dncnn3 = get_mean_ssim('ground_truth', 'restored')\n"
      ],
      "metadata": {
        "id": "yP1SyP9tYU1e"
      },
      "execution_count": null,
      "outputs": []
    },
    {
      "cell_type": "code",
      "source": [
        "ssim_dncnn3 = get_mean_ssim('ground_truth', 'restored')\n",
        "\n",
        "print('ground_truth <-> restored:')\n",
        "print(ssim_dncnn3)\n",
        "print('\\nground_truth <-> compressed:')\n",
        "print(get_mean_ssim('ground_truth', 'compressed'))"
      ],
      "metadata": {
        "colab": {
          "base_uri": "https://localhost:8080/"
        },
        "id": "JZ-WRIEl6sEj",
        "outputId": "94575788-cd63-44c8-a3a2-06bcf2e21f23"
      },
      "execution_count": null,
      "outputs": [
        {
          "output_type": "stream",
          "name": "stdout",
          "text": [
            "ground_truth <-> restored:\n",
            "0.8115377587941635\n",
            "\n",
            "ground_truth <-> compressed:\n",
            "0.7775750837956826\n"
          ]
        }
      ]
    },
    {
      "cell_type": "markdown",
      "source": [
        "##### PSNR-B"
      ],
      "metadata": {
        "id": "1tBl-I9r6sxR"
      }
    },
    {
      "cell_type": "code",
      "source": [
        "psnrb_dncnn3 = get_mean_psnrb('ground_truth', 'restored')\n",
        "\n",
        "print('ground_truth <-> restored:')\n",
        "print(psnrb_dncnn3)\n",
        "print('\\nground_truth <-> compressed:')\n",
        "print(get_mean_psnrb('ground_truth', 'compressed'))"
      ],
      "metadata": {
        "colab": {
          "base_uri": "https://localhost:8080/"
        },
        "id": "lVFnBFQo6vFx",
        "outputId": "c654f933-f435-44fd-ba1e-9ddc3bfc7bc9"
      },
      "execution_count": null,
      "outputs": [
        {
          "output_type": "stream",
          "name": "stdout",
          "text": [
            "ground_truth <-> restored:\n",
            "21.129029420879732\n",
            "\n",
            "ground_truth <-> compressed:\n",
            "20.917467121465815\n"
          ]
        }
      ]
    },
    {
      "cell_type": "markdown",
      "source": [
        "### FBCNN"
      ],
      "metadata": {
        "id": "eFVeM4BfpxRS"
      }
    },
    {
      "cell_type": "code",
      "source": [
        "RESTORED = 'results_FBCNN'\n",
        "\n",
        "with ZipFile(f'/content/gdrive/MyDrive/{RESTORED}.zip', 'r') as dataset_zip:\n",
        "    dataset_zip.extractall('/content/restored')"
      ],
      "metadata": {
        "id": "W3iyNOHgp02K"
      },
      "execution_count": null,
      "outputs": []
    },
    {
      "cell_type": "markdown",
      "source": [
        "PSNR, SSIM, PSNR-B:"
      ],
      "metadata": {
        "id": "1RjoRc1_qPDR"
      }
    },
    {
      "cell_type": "code",
      "source": [
        "psnr_fbcnn = get_mean_psnr('ground_truth', 'restored')\n",
        "print('PSNR:')\n",
        "print('ground_truth <-> restored:')\n",
        "print(psnr_fbcnn)\n",
        "print('ground_truth <-> compressed:')\n",
        "print(get_mean_psnr('ground_truth', 'compressed'))\n",
        "\n",
        "ssim_fbcnn = get_mean_ssim('ground_truth', 'restored')\n",
        "print('\\nSSIM:')\n",
        "print('ground_truth <-> restored:')\n",
        "print(ssim_fbcnn)\n",
        "print('ground_truth <-> compressed:')\n",
        "print(0.7775750837956826) # print(get_mean_ssim('ground_truth', 'compressed'))\n",
        "\n",
        "psnrb_fbcnn = get_mean_psnrb('ground_truth', 'restored')\n",
        "print('\\nPSNR-B:')\n",
        "print('ground_truth <-> restored:')\n",
        "print(psnrb_fbcnn)\n",
        "print('ground_truth <-> compressed:')\n",
        "print(get_mean_psnrb('ground_truth', 'compressed'))"
      ],
      "metadata": {
        "colab": {
          "base_uri": "https://localhost:8080/"
        },
        "id": "akooj5_hp-rx",
        "outputId": "a60ae1ed-fc7f-4461-b8d6-df6aa97a1cc2"
      },
      "execution_count": null,
      "outputs": [
        {
          "output_type": "stream",
          "name": "stdout",
          "text": [
            "PSNR:\n",
            "ground_truth <-> restored:\n",
            "21.224012593042723\n",
            "ground_truth <-> compressed:\n",
            "21.039983010995275\n",
            "\n",
            "SSIM:\n",
            "ground_truth <-> restored:\n",
            "0.820178338843458\n",
            "ground_truth <-> compressed:\n",
            "0.7775750837956826\n",
            "\n",
            "PSNR-B:\n",
            "ground_truth <-> restored:\n",
            "21.234683758629505\n",
            "ground_truth <-> compressed:\n",
            "20.917467121465815\n"
          ]
        }
      ]
    },
    {
      "cell_type": "markdown",
      "source": [
        "### Comparing"
      ],
      "metadata": {
        "id": "JhRxA6aoY6Et"
      }
    },
    {
      "cell_type": "code",
      "source": [
        "df_compare = pd.DataFrame({'PSNR': [psnr_arcnn, psnr_dncnn3, psnr_fbcnn], 'SSIM': [ssim_arcnn, ssim_dncnn3, ssim_fbcnn], 'PSNR-B': [psnrb_arcnn, psnrb_dncnn3, psnrb_fbcnn]}, index = ['AR_CNN', 'DnCNN3', 'FBCNN'])\n",
        "df_compare"
      ],
      "metadata": {
        "colab": {
          "base_uri": "https://localhost:8080/",
          "height": 143
        },
        "id": "6lnDWKKKY8fh",
        "outputId": "8ca41e14-c025-48fa-e5b4-624291c25a31"
      },
      "execution_count": null,
      "outputs": [
        {
          "output_type": "execute_result",
          "data": {
            "text/plain": [
              "             PSNR      SSIM     PSNR-B\n",
              "AR_CNN  21.174509  0.809098  21.127276\n",
              "DnCNN3  21.179346  0.811538  21.129029\n",
              "FBCNN   21.224013  0.820178  21.234684"
            ],
            "text/html": [
              "\n",
              "  <div id=\"df-2af17bb6-0786-47b1-a116-f860726ef4cd\">\n",
              "    <div class=\"colab-df-container\">\n",
              "      <div>\n",
              "<style scoped>\n",
              "    .dataframe tbody tr th:only-of-type {\n",
              "        vertical-align: middle;\n",
              "    }\n",
              "\n",
              "    .dataframe tbody tr th {\n",
              "        vertical-align: top;\n",
              "    }\n",
              "\n",
              "    .dataframe thead th {\n",
              "        text-align: right;\n",
              "    }\n",
              "</style>\n",
              "<table border=\"1\" class=\"dataframe\">\n",
              "  <thead>\n",
              "    <tr style=\"text-align: right;\">\n",
              "      <th></th>\n",
              "      <th>PSNR</th>\n",
              "      <th>SSIM</th>\n",
              "      <th>PSNR-B</th>\n",
              "    </tr>\n",
              "  </thead>\n",
              "  <tbody>\n",
              "    <tr>\n",
              "      <th>AR_CNN</th>\n",
              "      <td>21.174509</td>\n",
              "      <td>0.809098</td>\n",
              "      <td>21.127276</td>\n",
              "    </tr>\n",
              "    <tr>\n",
              "      <th>DnCNN3</th>\n",
              "      <td>21.179346</td>\n",
              "      <td>0.811538</td>\n",
              "      <td>21.129029</td>\n",
              "    </tr>\n",
              "    <tr>\n",
              "      <th>FBCNN</th>\n",
              "      <td>21.224013</td>\n",
              "      <td>0.820178</td>\n",
              "      <td>21.234684</td>\n",
              "    </tr>\n",
              "  </tbody>\n",
              "</table>\n",
              "</div>\n",
              "      <button class=\"colab-df-convert\" onclick=\"convertToInteractive('df-2af17bb6-0786-47b1-a116-f860726ef4cd')\"\n",
              "              title=\"Convert this dataframe to an interactive table.\"\n",
              "              style=\"display:none;\">\n",
              "        \n",
              "  <svg xmlns=\"http://www.w3.org/2000/svg\" height=\"24px\"viewBox=\"0 0 24 24\"\n",
              "       width=\"24px\">\n",
              "    <path d=\"M0 0h24v24H0V0z\" fill=\"none\"/>\n",
              "    <path d=\"M18.56 5.44l.94 2.06.94-2.06 2.06-.94-2.06-.94-.94-2.06-.94 2.06-2.06.94zm-11 1L8.5 8.5l.94-2.06 2.06-.94-2.06-.94L8.5 2.5l-.94 2.06-2.06.94zm10 10l.94 2.06.94-2.06 2.06-.94-2.06-.94-.94-2.06-.94 2.06-2.06.94z\"/><path d=\"M17.41 7.96l-1.37-1.37c-.4-.4-.92-.59-1.43-.59-.52 0-1.04.2-1.43.59L10.3 9.45l-7.72 7.72c-.78.78-.78 2.05 0 2.83L4 21.41c.39.39.9.59 1.41.59.51 0 1.02-.2 1.41-.59l7.78-7.78 2.81-2.81c.8-.78.8-2.07 0-2.86zM5.41 20L4 18.59l7.72-7.72 1.47 1.35L5.41 20z\"/>\n",
              "  </svg>\n",
              "      </button>\n",
              "      \n",
              "  <style>\n",
              "    .colab-df-container {\n",
              "      display:flex;\n",
              "      flex-wrap:wrap;\n",
              "      gap: 12px;\n",
              "    }\n",
              "\n",
              "    .colab-df-convert {\n",
              "      background-color: #E8F0FE;\n",
              "      border: none;\n",
              "      border-radius: 50%;\n",
              "      cursor: pointer;\n",
              "      display: none;\n",
              "      fill: #1967D2;\n",
              "      height: 32px;\n",
              "      padding: 0 0 0 0;\n",
              "      width: 32px;\n",
              "    }\n",
              "\n",
              "    .colab-df-convert:hover {\n",
              "      background-color: #E2EBFA;\n",
              "      box-shadow: 0px 1px 2px rgba(60, 64, 67, 0.3), 0px 1px 3px 1px rgba(60, 64, 67, 0.15);\n",
              "      fill: #174EA6;\n",
              "    }\n",
              "\n",
              "    [theme=dark] .colab-df-convert {\n",
              "      background-color: #3B4455;\n",
              "      fill: #D2E3FC;\n",
              "    }\n",
              "\n",
              "    [theme=dark] .colab-df-convert:hover {\n",
              "      background-color: #434B5C;\n",
              "      box-shadow: 0px 1px 3px 1px rgba(0, 0, 0, 0.15);\n",
              "      filter: drop-shadow(0px 1px 2px rgba(0, 0, 0, 0.3));\n",
              "      fill: #FFFFFF;\n",
              "    }\n",
              "  </style>\n",
              "\n",
              "      <script>\n",
              "        const buttonEl =\n",
              "          document.querySelector('#df-2af17bb6-0786-47b1-a116-f860726ef4cd button.colab-df-convert');\n",
              "        buttonEl.style.display =\n",
              "          google.colab.kernel.accessAllowed ? 'block' : 'none';\n",
              "\n",
              "        async function convertToInteractive(key) {\n",
              "          const element = document.querySelector('#df-2af17bb6-0786-47b1-a116-f860726ef4cd');\n",
              "          const dataTable =\n",
              "            await google.colab.kernel.invokeFunction('convertToInteractive',\n",
              "                                                     [key], {});\n",
              "          if (!dataTable) return;\n",
              "\n",
              "          const docLinkHtml = 'Like what you see? Visit the ' +\n",
              "            '<a target=\"_blank\" href=https://colab.research.google.com/notebooks/data_table.ipynb>data table notebook</a>'\n",
              "            + ' to learn more about interactive tables.';\n",
              "          element.innerHTML = '';\n",
              "          dataTable['output_type'] = 'display_data';\n",
              "          await google.colab.output.renderOutput(dataTable, element);\n",
              "          const docLink = document.createElement('div');\n",
              "          docLink.innerHTML = docLinkHtml;\n",
              "          element.appendChild(docLink);\n",
              "        }\n",
              "      </script>\n",
              "    </div>\n",
              "  </div>\n",
              "  "
            ]
          },
          "metadata": {},
          "execution_count": 47
        }
      ]
    }
  ]
}